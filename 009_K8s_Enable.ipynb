{
 "cells": [
  {
   "cell_type": "markdown",
   "id": "98e58b5a",
   "metadata": {},
   "source": [
    "<a href=\"https://www.nvidia.com/dli\"> <img src=\"images/DLI_Header.png\" alt=\"Header\" style=\"width: 400px;\"/> </a>"
   ]
  },
  {
   "cell_type": "markdown",
   "id": "8e31c53c",
   "metadata": {},
   "source": [
    "# 9.0 Enabling GPU within a Kubernetes (K8s) Cluster\n",
    "## (part of Lab 3)"
   ]
  },
  {
   "cell_type": "markdown",
   "id": "f1546867",
   "metadata": {},
   "source": [
    "<img src=\"images/k8s/kubernetes_stack_0.png\" style=\"float: right;\">\n",
    "In this notebook, you'll learn how to prepare a Kubernetes cluster for GPU acceleration full production deployment of conversational AI applications.<br><br>\n",
    "\n",
    "**[9.1 Launch a K8s Cluster](#9.1-Launch-a-K8s-Cluster)<br>**\n",
    "**[9.2 Deploy a CUDA Test Application](#9.2-Deploy-a-CUDA-Test-Application)<br>**\n",
    "**[9.3 Add GPU Awareness to K8s](#9.3-Add-GPU-Awareness-to-K8s)<br>**\n",
    "**[9.4 Interact with GPU Resources in K8s](#9.4-Interact-with-GPU-Resources-in-K8s)<br>**\n",
    "&nbsp;&nbsp;&nbsp;&nbsp;[9.4.1 Exercise: Configure Pod](#9.4.1-Exercise:-Configure-Pod)<br>\n",
    "&nbsp;&nbsp;&nbsp;&nbsp;[9.4.2 Final Checks and Shutdown](#9.4.2-Final-Checks-and-Shutdown)<br>\n",
    "&nbsp;&nbsp;&nbsp;&nbsp;&nbsp;&nbsp;&nbsp;&nbsp;[9.4.2.1 Exercise: Delete a Pod](#9.4.2.1-Exercise:-Delete-a-Pod)<br>\n",
    "\n",
    "In the previous parts of the class, you deployed NVIDIA Riva using basic shell commands. As convenient as this method is during development, it becomes impractical when deploying to production, that is, when managing larger numbers of servers and services. \n",
    "\n",
    "[Kubernetes](https://kubernetes.io/), also known as K8s, is an open-source system for automating deployment, scaling, and management of containerized applications. \n",
    "In this part of the class, we will first launch a K8s cluster, enable the cluster for GPU acceleration and interact with those resources. This is our first step toward monitoring, managing, and deploying conversational AI applications in production. Monitoring and deployment will be covered in later notebooks."
   ]
  },
  {
   "cell_type": "markdown",
   "id": "7c388518",
   "metadata": {},
   "source": [
    "### Notebook Dependencies\n",
    "The steps in this notebook assume that you are starting with a clean environment.  Ensure that by stopping any previous Kubernetes installation and all docker containers, then looking at our environment's state. "
   ]
  },
  {
   "cell_type": "code",
   "execution_count": null,
   "id": "53813997",
   "metadata": {},
   "outputs": [],
   "source": [
    "# Check running docker containers. This should be empty.\n",
    "!docker ps"
   ]
  },
  {
   "cell_type": "code",
   "execution_count": null,
   "id": "fc961731",
   "metadata": {
    "scrolled": true
   },
   "outputs": [],
   "source": [
    "# If not empty,\n",
    "# Clear Docker containers to start fresh...\n",
    "!docker kill $(docker ps -q)\n",
    "\n",
    "# Check for clean environment - this should be empty\n",
    "!docker ps"
   ]
  },
  {
   "cell_type": "code",
   "execution_count": null,
   "id": "6db50827",
   "metadata": {},
   "outputs": [],
   "source": [
    "# Deletes local Kubernetes cluster if it exists\n",
    "!minikube delete"
   ]
  },
  {
   "cell_type": "markdown",
   "id": "da77aba9",
   "metadata": {},
   "source": [
    "--- \n",
    "# 9.1 Launch a K8s Cluster"
   ]
  },
  {
   "cell_type": "markdown",
   "id": "5f966c34",
   "metadata": {},
   "source": [
    "A [Kubernetes cluster](https://kubernetes.io/docs/concepts/overview/components/) consists of a set of worker machines (physical or virtual), called nodes, that run containerized applications. Every cluster has at least one worker node, though it can also support thousands of nodes! For this class, we will use [Minikube](https://minikube.sigs.k8s.io/docs/), which allows us to deploy a local and self-contained Kubernetes cluster with a single node. \n",
    "\n",
    "Review the class hardware resources available and launch the K8s cluster.\n",
    "\n",
    "We can see details and status of the available GPU using the `nvidia-smi` command.\n",
    "\n",
    "<img src=\"images/k8s/nvidia_smi.png\">"
   ]
  },
  {
   "cell_type": "code",
   "execution_count": null,
   "id": "24c34fae",
   "metadata": {},
   "outputs": [],
   "source": [
    "# What GPU are we using and how much memory does it have?\n",
    "!nvidia-smi"
   ]
  },
  {
   "cell_type": "code",
   "execution_count": null,
   "id": "e6df8e1c",
   "metadata": {
    "scrolled": true
   },
   "outputs": [],
   "source": [
    "# What type of CPU processor(s) are we using?\n",
    "!cat /proc/cpuinfo | grep \"model name\""
   ]
  },
  {
   "cell_type": "code",
   "execution_count": null,
   "id": "27a3dcd2",
   "metadata": {},
   "outputs": [],
   "source": [
    "# How many processors are available?\n",
    "!nproc"
   ]
  },
  {
   "cell_type": "code",
   "execution_count": null,
   "id": "71dd85d8",
   "metadata": {
    "scrolled": true
   },
   "outputs": [],
   "source": [
    "# Launch the K8s cluster using Minikube\n",
    "!minikube start --driver=none"
   ]
  },
  {
   "cell_type": "markdown",
   "id": "c94aeca8",
   "metadata": {},
   "source": [
    "Once the cluster is successfully launched, we expect to see a number of containers running.  Check this by executing `docker ps` again."
   ]
  },
  {
   "cell_type": "code",
   "execution_count": null,
   "id": "a08099e5",
   "metadata": {
    "scrolled": true
   },
   "outputs": [],
   "source": [
    "# Listing the Kuberenetes components deployed\n",
    "!docker ps"
   ]
  },
  {
   "cell_type": "markdown",
   "id": "7dba0d91",
   "metadata": {},
   "source": [
    "We should now have access to the [kubectl command line tool](https://kubernetes.io/docs/reference/kubectl/overview/), which is used to interact with the cluster. List the nodes and services in the cluster using the `kubectl get` command:"
   ]
  },
  {
   "cell_type": "code",
   "execution_count": null,
   "id": "e0d0b87e",
   "metadata": {},
   "outputs": [],
   "source": [
    "# List nodes in the cluster\n",
    "!kubectl get nodes"
   ]
  },
  {
   "cell_type": "code",
   "execution_count": null,
   "id": "9ecce38f",
   "metadata": {},
   "outputs": [],
   "source": [
    "# List all services deployed\n",
    "!kubectl get services"
   ]
  },
  {
   "cell_type": "markdown",
   "id": "52a6e475",
   "metadata": {},
   "source": [
    "--- \n",
    "# 9.2 Deploy a CUDA Test Application"
   ]
  },
  {
   "cell_type": "markdown",
   "id": "f29188c3",
   "metadata": {},
   "source": [
    "Next, we will deploy a simple GPU-accelerated application. This is a toy application which randomly generates two very large vectors and adds them. Print out the YAML configuration file needed to deploy the application:"
   ]
  },
  {
   "cell_type": "code",
   "execution_count": null,
   "id": "cb3993fe",
   "metadata": {},
   "outputs": [],
   "source": [
    "# Set the configuration directory\n",
    "CONFIG_DIR='/dli/task/kubernetes-config'"
   ]
  },
  {
   "cell_type": "code",
   "execution_count": null,
   "id": "456f4edd",
   "metadata": {},
   "outputs": [],
   "source": [
    "# Review the application we will deploy\n",
    "!cat $CONFIG_DIR/gpu-pod.yaml"
   ]
  },
  {
   "cell_type": "markdown",
   "id": "43c1d3f0",
   "metadata": {},
   "source": [
    "The main difference between a YAML file specifying a GPU-accelerated application compared to one specifying a non-GPU-accelerated application, is the configuration of the GPU resources required. In our case, we have created a basic configuration requesting a single NVIDIA GPU by setting `resources: limits: nvidia.com/gpu:` to 1. \n",
    "\n",
    "To deploy an application, execute the `kubectl apply` command, specifying the YAML configuration file with the `-f` file option."
   ]
  },
  {
   "cell_type": "code",
   "execution_count": null,
   "id": "4f8d5f45",
   "metadata": {},
   "outputs": [],
   "source": [
    "# Deploy the application\n",
    "!kubectl apply -f $CONFIG_DIR/gpu-pod.yaml"
   ]
  },
  {
   "cell_type": "markdown",
   "id": "f0ca70e3",
   "metadata": {},
   "source": [
    "Once deployed, we can observe the status of a pod created with `kubectl get`:"
   ]
  },
  {
   "cell_type": "code",
   "execution_count": null,
   "id": "ffce028e",
   "metadata": {},
   "outputs": [],
   "source": [
    "# Get the status of the pod deployed\n",
    "!kubectl get pods gpu-operator-test"
   ]
  },
  {
   "cell_type": "markdown",
   "id": "7dca48a4",
   "metadata": {},
   "source": [
    "At this stage, the application is in the \"Pending\" state. <br>\n",
    "Why do you think this is case? Do you think its just the fact we have not given the application enough time to launch? Or do you think there are other reasons for this behavior? Try executing the same command again to see if the status changes."
   ]
  },
  {
   "cell_type": "code",
   "execution_count": null,
   "id": "53789402",
   "metadata": {},
   "outputs": [],
   "source": [
    "# Checking again. Is it still pending?\n",
    "!kubectl get pods gpu-operator-test"
   ]
  },
  {
   "cell_type": "markdown",
   "id": "9b7b73e3",
   "metadata": {},
   "source": [
    "So the application is indeed in the \"Pending\" state and it will remain like that irrespective of the amount of time we wait. Why? Begin to answer this by looking at the configuration of the available nodes (in our case we just have one). In particular, look for any NVIDIA-specific configuration using the `kubectl describe` command, as this will help us identify GPU resources:"
   ]
  },
  {
   "cell_type": "code",
   "execution_count": null,
   "id": "49e1e38f",
   "metadata": {
    "scrolled": true
   },
   "outputs": [],
   "source": [
    "# Can we see the GPU?\n",
    "!kubectl describe nodes"
   ]
  },
  {
   "cell_type": "markdown",
   "id": "a06dc05e",
   "metadata": {},
   "source": [
    "Can you find anything? Try again, filtering the output with `grep`:"
   ]
  },
  {
   "cell_type": "code",
   "execution_count": null,
   "id": "d52c1a0f",
   "metadata": {},
   "outputs": [],
   "source": [
    "# Let's look for the lines containing the word \"nvidia\"\n",
    "!kubectl describe nodes | grep nvidia"
   ]
  },
  {
   "cell_type": "markdown",
   "id": "9e289ad4",
   "metadata": {},
   "source": [
    "We did not find anything. That would explain why the application is still pending. Our cluster is not aware of the presence of the GPU.  The cluster is unable to schedule the execution since our YAML required GPU resources, but they are for all intents and purposes unavailable. We need to add the NVIDIA GPU device plugin."
   ]
  },
  {
   "cell_type": "markdown",
   "id": "b226c416",
   "metadata": {},
   "source": [
    "--- \n",
    "# 9.3 Add GPU Awareness to K8s\n",
    "To take advantage of GPU acceleration on Kubernetes, install the [NVIDIA GPU plugin](https://kubernetes.io/docs/tasks/manage-gpus/scheduling-gpus/#deploying-nvidia-gpu-device-plugin) to the cluster. Before adding it, look at the status without the plugin  with `kubectl get`:"
   ]
  },
  {
   "cell_type": "code",
   "execution_count": null,
   "id": "83532ccf",
   "metadata": {},
   "outputs": [],
   "source": [
    "# Try to find the GPU device plugin. Not there \n",
    "!kubectl get pods -A"
   ]
  },
  {
   "cell_type": "markdown",
   "id": "646cca5f",
   "metadata": {},
   "source": [
    "To install the NVIDIA GPU plugin, we can use the Kubernetes package manager [Helm](https://helm.sh/)."
   ]
  },
  {
   "cell_type": "code",
   "execution_count": null,
   "id": "bc013717",
   "metadata": {},
   "outputs": [],
   "source": [
    "# Install the device plugin with the Helm package manager\n",
    "!helm repo add nvdp https://nvidia.github.io/k8s-device-plugin \\\n",
    "   && helm repo update\n",
    "!helm install --version=0.9.0 --generate-name nvdp/nvidia-device-plugin"
   ]
  },
  {
   "cell_type": "markdown",
   "id": "b122e20e",
   "metadata": {},
   "source": [
    "Check the status again to make sure the plugin was deployed:"
   ]
  },
  {
   "cell_type": "code",
   "execution_count": null,
   "id": "fd99bf77",
   "metadata": {},
   "outputs": [],
   "source": [
    "# Now the device plugin \"nvidia-device-plugin-*\" should be \"Running\" after a \"ContainerCreating\" status\n",
    "!kubectl get pods -A"
   ]
  },
  {
   "cell_type": "markdown",
   "id": "cf705838",
   "metadata": {},
   "source": [
    "We should now see the NVIDIA-specific configuration listed against the nodes:"
   ]
  },
  {
   "cell_type": "code",
   "execution_count": null,
   "id": "8003c27f",
   "metadata": {
    "scrolled": true
   },
   "outputs": [],
   "source": [
    "# Now we should see Allocable GPUs\n",
    "!kubectl describe nodes"
   ]
  },
  {
   "cell_type": "code",
   "execution_count": null,
   "id": "b7588cf5",
   "metadata": {},
   "outputs": [],
   "source": [
    "# Let's look for the lines containing the word nvidia\n",
    "!kubectl describe nodes | grep nvidia"
   ]
  },
  {
   "cell_type": "markdown",
   "id": "22d392f9",
   "metadata": {},
   "source": [
    "As we deployed the GPU device plugin, what do you think happened to our application?"
   ]
  },
  {
   "cell_type": "code",
   "execution_count": null,
   "id": "ddd29c8e",
   "metadata": {},
   "outputs": [],
   "source": [
    "# Let's check the application again\n",
    "!kubectl get pods gpu-operator-test"
   ]
  },
  {
   "cell_type": "markdown",
   "id": "4512be6b",
   "metadata": {},
   "source": [
    "Our application executed successfully when the GPU resources became available. In fact, it has now completed so we can have a look at its execution logs with `kubectl logs`:"
   ]
  },
  {
   "cell_type": "code",
   "execution_count": null,
   "id": "9d2c9765",
   "metadata": {},
   "outputs": [],
   "source": [
    "# Let's look at the output\n",
    "!kubectl logs gpu-operator-test"
   ]
  },
  {
   "cell_type": "markdown",
   "id": "c873f913",
   "metadata": {},
   "source": [
    "Check the list of Helm charts installed with the `helm list` command (see the [Helm documentation](https://helm.sh/docs/helm/helm_list/)). The `--filter` option allows filtering by name.  Use the `--output` option to specify the output format (\"json\", \"table\", or \"yaml\").  "
   ]
  },
  {
   "cell_type": "markdown",
   "id": "d9b33a89",
   "metadata": {},
   "source": [
    "Now, let's delete the Kubernetes pod `gpu-operator-test`:"
   ]
  },
  {
   "cell_type": "code",
   "execution_count": null,
   "id": "29a33330",
   "metadata": {},
   "outputs": [],
   "source": [
    "# Let's delete the pod\n",
    "!kubectl delete pod gpu-operator-test "
   ]
  },
  {
   "cell_type": "markdown",
   "id": "153cca94",
   "metadata": {},
   "source": [
    "Congratulations! You deployed a GPU accelerated applicaiton with Kuberenetes. So far, we have specified that we want a single GPU without specifying which GPU we want."
   ]
  },
  {
   "cell_type": "markdown",
   "id": "2dfb804a",
   "metadata": {},
   "source": [
    "--- \n",
    "# 9.4 Interact with GPU Resources in K8s"
   ]
  },
  {
   "cell_type": "markdown",
   "id": "96607158",
   "metadata": {},
   "source": [
    "Now, let's see how to get more control over the GPU-accelerated cluster. Being able to control the GPU type, or the MIG ([Multi-Instance GPU](https://www.nvidia.com/en-us/technologies/multi-instance-gpu/)) partition on an Ampere GPU is very important as GPUs vary in terms of computational capability, memory, and cost. The MIG allows users to fragment the GPU into as many as 7 (on A100) partitions. This allows more granular control over the resources in the cluster and better application isolation. \n",
    "\n",
    "In order to control the GPU type, we'll add the `gpu-feature-discovery` plugin and deploy it with Helm. This plugin can be configured with several options, as described in the [gpu-feature-discovery repository](https://github.com/NVIDIA/gpu-feature-discovery#deployment-via-helm). One of the most interesting options when working with Ampere GPUs is the ability to support MIG partitions. The feature discovery plugin can be deployed with the following configurable features:\n",
    "\n",
    "\n",
    "|Feature|Description|Default|\n",
    "|-|-|-|\n",
    "|`failOnInitError`|Fail if there is an error during initialization of any label sources|\"true\"|\n",
    "|`sleepInterval`|Time to sleep between labeling|\"60s\"|\n",
    "|`migStrategy`|Pass the desired strategy for labeling MIG devices on GPUs that support it [none | single | mixed]|\"none\"|\n",
    "|`nfd.deploy`|When set to true, deploy NFD as a subchart with all of the proper parameters set for it|\"true\"|\n",
    "\n",
    "In this class, we are not using Ampere GPUs, so we will do a simple install:"
   ]
  },
  {
   "cell_type": "code",
   "execution_count": null,
   "id": "ad1e1766",
   "metadata": {},
   "outputs": [],
   "source": [
    "!helm repo add nvgfd https://nvidia.github.io/gpu-feature-discovery \\\n",
    "    && helm repo update\n",
    "!helm install \\\n",
    "    --version=0.4.1 \\\n",
    "    --generate-name \\\n",
    "    nvgfd/gpu-feature-discovery"
   ]
  },
  {
   "cell_type": "markdown",
   "id": "58d534e2",
   "metadata": {},
   "source": [
    "Let's look at additional information that we have about our system:"
   ]
  },
  {
   "cell_type": "code",
   "execution_count": null,
   "id": "6ff5a3a5",
   "metadata": {
    "scrolled": true
   },
   "outputs": [],
   "source": [
    "# Looking for all of the NVIDIA related information\n",
    "!kubectl describe nodes | grep \"nvidia.com\" -A 15"
   ]
  },
  {
   "cell_type": "markdown",
   "id": "5e25aaf7",
   "metadata": {},
   "source": [
    "You should see a wide range of GPU-specific information, including the driver and CUDA information, as well as which GPU is in use from `nvidia.com/gpu.product`.\n",
    "\n",
    "This is probably a Tesla-T4, unless you are running the class on an alternative GPU. Recall that we deployed our test application `gpu-operator-test` with a generic \"GPU\".  It is possible to deploy it with more specific information regarding the GPU. \n",
    "\n",
    "A new YAML file, `gpu-pod-T4.yaml`, is already prepared. Let's inspect it first:"
   ]
  },
  {
   "cell_type": "code",
   "execution_count": null,
   "id": "5cba847f",
   "metadata": {},
   "outputs": [],
   "source": [
    "# Review the application we are deploying\n",
    "!cat $CONFIG_DIR/gpu-pod-T4.yaml"
   ]
  },
  {
   "cell_type": "markdown",
   "id": "4a0d0947",
   "metadata": {},
   "source": [
    "As you might have noticed, the YAML was configured to deploy on an A100 GPU, which is not available in the class. Go ahead and deploy the application anyway."
   ]
  },
  {
   "cell_type": "code",
   "execution_count": null,
   "id": "167d3ef4",
   "metadata": {},
   "outputs": [],
   "source": [
    "!kubectl apply -f $CONFIG_DIR/gpu-pod-T4.yaml"
   ]
  },
  {
   "cell_type": "code",
   "execution_count": null,
   "id": "7a8a3c44",
   "metadata": {},
   "outputs": [],
   "source": [
    "!kubectl get pods gpu-operator-test-a100"
   ]
  },
  {
   "cell_type": "markdown",
   "id": "b811b32c",
   "metadata": {},
   "source": [
    "Just as we saw in the earlier non-GPU case, the deployment is in the \"Pending\" state and it will remain in this state until an A100 GPU becomes available or it is terminated. "
   ]
  },
  {
   "cell_type": "markdown",
   "id": "431bf818",
   "metadata": {},
   "source": [
    "## 9.4.1 Exercise: Configure Pod"
   ]
  },
  {
   "cell_type": "markdown",
   "id": "49a56b14",
   "metadata": {},
   "source": [
    "Modify the YAML file and deploy the `gpu-operator-test` application on the correct GPU.\n",
    "Open the [gpu-pod-T4.yaml](kubernetes-config/gpu-pod-T4.yaml) config file and make those chages:\n",
    "* Change the pod name to \"gpu-operator-test-t4\"\n",
    "* Set the GPU product to \"Tesla-T4\" instead of the A100\n",
    "\n",
    "Check your work against the [solution](solutions/ex9.4.1.yaml) before moving on:"
   ]
  },
  {
   "cell_type": "code",
   "execution_count": null,
   "id": "4ae86c6c",
   "metadata": {},
   "outputs": [],
   "source": [
    "# TODO modify gpu-pod-T4.yaml so that this cell verifies changes are correct\n",
    "# Check your work - you'll get no output if the files match\n",
    "!diff $CONFIG_DIR/gpu-pod-T4.yaml solutions/ex9.4.1.yaml"
   ]
  },
  {
   "cell_type": "markdown",
   "id": "7eab06b0",
   "metadata": {},
   "source": [
    "Next, deploy the `gpu-operator-test-t4` pod using the modified [gpu-pod-T4.yaml](kubernetes-config/gpu-pod-T4.yaml)."
   ]
  },
  {
   "cell_type": "code",
   "execution_count": null,
   "id": "6a4752e4",
   "metadata": {},
   "outputs": [],
   "source": [
    "!kubectl apply -f $CONFIG_DIR/gpu-pod-T4.yaml"
   ]
  },
  {
   "cell_type": "markdown",
   "id": "684717c8",
   "metadata": {},
   "source": [
    "## 9.4.2 Final Checks and Shutdown\n",
    "It might take a few seconds, but the application should deploy and finish successfully."
   ]
  },
  {
   "cell_type": "code",
   "execution_count": null,
   "id": "069d39a5",
   "metadata": {},
   "outputs": [],
   "source": [
    "# Get the status of the pod deployed\n",
    "!kubectl get pods gpu-operator-test-t4"
   ]
  },
  {
   "cell_type": "code",
   "execution_count": null,
   "id": "ed730cbb",
   "metadata": {},
   "outputs": [],
   "source": [
    "# Let's look at the output\n",
    "!kubectl logs gpu-operator-test-t4"
   ]
  },
  {
   "cell_type": "markdown",
   "id": "f3da749a",
   "metadata": {},
   "source": [
    "### 9.4.2.1 Exercise: Delete a Pod"
   ]
  },
  {
   "cell_type": "markdown",
   "id": "82ab7760",
   "metadata": {},
   "source": [
    "Delete the Kubernetes pod `gpu-operator-test-t4`. Check the [solution](solutions/ex9.4.2.ipynb) before moving on:"
   ]
  },
  {
   "cell_type": "code",
   "execution_count": null,
   "id": "8c801013",
   "metadata": {},
   "outputs": [],
   "source": [
    "# TODO delete the pod\n",
    "!kubectl ??"
   ]
  },
  {
   "cell_type": "markdown",
   "id": "1ae9c1af",
   "metadata": {},
   "source": [
    "Before moving forward to the next notebook, shut down K8s and clean up the docker environment."
   ]
  },
  {
   "cell_type": "code",
   "execution_count": null,
   "id": "29c4f159",
   "metadata": {},
   "outputs": [],
   "source": [
    "# Shut down K8s\n",
    "!minikube delete\n",
    "# Shut down running docker containers\n",
    "!docker kill $(docker ps -q)\n",
    "# Check for clean environment - this should be empty\n",
    "!docker ps"
   ]
  },
  {
   "cell_type": "markdown",
   "id": "7e838178",
   "metadata": {},
   "source": [
    "---\n",
    "<h2 style=\"color:green;\">Congratulations!</h2>\n",
    "\n",
    "In this notebook, you have:\n",
    "- Launched a K8s cluster\n",
    "- Interacted with K8s using `kubectl`\n",
    "- Installed plugins with Helm\n",
    "- Enabled GPU acceleration and GPU feature discovery\n",
    "- Deployed an application\n",
    "\n",
    "Next, you'll monitor activity on the cluster. Move on to [Monitoring GPU within Kubernetes Cluster](010_K8s_Monitor.ipynb)."
   ]
  },
  {
   "cell_type": "markdown",
   "id": "5c9106e8",
   "metadata": {},
   "source": [
    "<a href=\"https://www.nvidia.com/dli\"> <img src=\"images/DLI_Header.png\" alt=\"Header\" style=\"width: 400px;\"/> </a>"
   ]
  }
 ],
 "metadata": {
  "kernelspec": {
   "display_name": "Python 3 (ipykernel)",
   "language": "python",
   "name": "python3"
  },
  "language_info": {
   "codemirror_mode": {
    "name": "ipython",
    "version": 3
   },
   "file_extension": ".py",
   "mimetype": "text/x-python",
   "name": "python",
   "nbconvert_exporter": "python",
   "pygments_lexer": "ipython3",
   "version": "3.8.10"
  }
 },
 "nbformat": 4,
 "nbformat_minor": 5
}
