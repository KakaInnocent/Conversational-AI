{
 "cells": [
  {
   "cell_type": "markdown",
   "metadata": {},
   "source": [
    "<a href=\"https://www.nvidia.com/dli\"> <img src=\"images/DLI_Header.png\" alt=\"Header\" style=\"width: 400px;\"/> </a>"
   ]
  },
  {
   "cell_type": "markdown",
   "metadata": {},
   "source": [
    "# 5.0 ASR Deployment with NVIDIA Riva\n",
    "## (part of Lab 1)"
   ]
  },
  {
   "cell_type": "markdown",
   "metadata": {},
   "source": [
    "In this notebook, you'll take the `.riva` QuartzNet ASR model you exported with TAO Toolkit and deploy it with [NVIDIA Riva](https://developer.nvidia.com/riva). After the model is deployed in Riva, you can issue inference requests to the Riva server from a client."
   ]
  },
  {
   "cell_type": "markdown",
   "metadata": {},
   "source": [
    "**[5.1 NVIDIA Riva](#5.1-NVIDIA-Riva)<br>**\n",
    "**[5.2 Riva ServiceMaker](#5.2-Riva-ServiceMaker)<br>**\n",
    "&nbsp;&nbsp;&nbsp;&nbsp;[5.2.1 `riva-build`](#5.2.1-riva-build)<br>\n",
    "&nbsp;&nbsp;&nbsp;&nbsp;[5.2.2 `riva-deploy`](#5.2.2-riva-deploy)<br>\n",
    "**[5.3 Riva Server](#5.3-Riva-Server)<br>**\n",
    "&nbsp;&nbsp;&nbsp;&nbsp;[5.3.1 Riva Configuration](#5.3.1-Riva-Configuration)<br>\n",
    "&nbsp;&nbsp;&nbsp;&nbsp;[5.3.2 Exercise: Configure Riva for a Custom ASR](#5.3.2-Exercise:-Configure-Riva-for-a-Custom-ASR)<br>\n",
    "&nbsp;&nbsp;&nbsp;&nbsp;[5.3.3 Riva Start Services](#5.3.3-Riva-Start-Services)<br>\n",
    "&nbsp;&nbsp;&nbsp;&nbsp;[5.3.4 Riva Available Services Check](#5.3.4-Riva-Available-Services-Check)<br>\n",
    "**[5.4 Riva ASR Service Request](#5.4-Riva-ASR-Service-Request)<br>**\n",
    "&nbsp;&nbsp;&nbsp;&nbsp;[5.4.1 Python Client Demo](#5.4.1-Python-Client-Demo)<br>\n",
    "&nbsp;&nbsp;&nbsp;&nbsp;[5.4.2 Request Riva ASR service](#5.4.2-Request-Riva-ASR-service)<br>\n",
    "**[5.5 Streaming ASR](#5.5-Streaming-ASR)<br>**\n",
    "&nbsp;&nbsp;&nbsp;&nbsp;[5.5.1 Stop Riva Services](#5.5.1-Stop-Riva-Services)<br>"
   ]
  },
  {
   "cell_type": "markdown",
   "metadata": {},
   "source": [
    "### Notebook Dependencies\n",
    "The steps in this notebook assume that you have set up your NGC credential and that you successfully completed the `.riva` model export with TAO Toolkit in the [previous notebook](004_ASR_TAO_Inference.ipynb).  If you've done that, you are ready to go!  Skip to [section 5.1](#5.1-NVIDIA-Riva).\n",
    "\n",
    "If you have not exported the ASR model, or if you have restarted your DLI course instance since you exported, you will need:\n",
    "1. **NGC Credentials**<br>Be sure you have added your NGC credential as described in the [NGC Setup notebook](003_Intro_NGC_Setup.ipynb)\n",
    "2. **asr-model.riva**\n",
    "Execute the next cell to load a copy of the exported model into the correct location."
   ]
  },
  {
   "cell_type": "code",
   "execution_count": 1,
   "metadata": {},
   "outputs": [],
   "source": [
    "%%bash\n",
    "mkdir -p /dli/task/tao/results/quartznet/export\n",
    "cp /dli/task/tao/backup_riva/asr-model.riva /dli/task/tao/results/quartznet/export/"
   ]
  },
  {
   "cell_type": "markdown",
   "metadata": {},
   "source": [
    "---\n",
    "# 5.1 NVIDIA Riva"
   ]
  },
  {
   "cell_type": "markdown",
   "metadata": {},
   "source": [
    "NVIDIA Riva is a platform for building and deploying AI applications that fuse vision, speech and other sensors. It offers a complete workflow to build, train and deploy AI systems that can use visual cues such as gestures and gaze along with speech in context. With the NVIDIA Riva conversational AI platform, you can:\n",
    "\n",
    "- Build speech and NLP AI applications using pretrained NVIDIA models available at NVIDIA GPU Cloud ([NGC](https://ngc.nvidia.com/catalog/models?orderBy=modifiedDESC&query=%20label%3A%22NeMo%2FPyTorch%22&quickFilter=models&filters=)).\n",
    "\n",
    "- Train and finetune toolkits: re-train your model on domain-specific data, with NVIDIA [NeMo](https://github.com/NVIDIA/NeMo) and \n",
    "[TAO Toolkit](https://docs.nvidia.com/tao/tao-toolkit/index.html#tao-toolkit).\n",
    "\n",
    "- Optimize neural network performance and latency using [NVIDIA TensorRT](https://developer.nvidia.com/tensorrt)\n",
    "\n",
    "- Deploy AI applications with [Triton Inference Server](https://developer.nvidia.com/nvidia-triton-inference-server):\n",
    "\n",
    "For more detailed information on Riva, please refer to the [Riva developer documentation](https://docs.nvidia.com/deeplearning/riva/user-guide/docs/index.html)."
   ]
  },
  {
   "cell_type": "markdown",
   "metadata": {},
   "source": [
    "---\n",
    "# 5.2 Riva ServiceMaker\n",
    "ServiceMaker is the set of tools that aggregate all the necessary artifacts (models, files, configurations, and user settings) for Riva deployment to a target environment. In this lab, we are going to use the [riva-speech:1.4.0-beta-servicemaker](https://ngc.nvidia.com/catalog/containers/nvidia:riva:riva-speech) container available on NGC."
   ]
  },
  {
   "cell_type": "markdown",
   "metadata": {},
   "source": [
    "<img src=\"images/asr/servicemaker.png\" width=1000>"
   ]
  },
  {
   "cell_type": "markdown",
   "metadata": {},
   "source": [
    "## 5.2.1 `riva-build`\n",
    "\n",
    "`riva-build` is responsible for combining one or more exported models (`.riva` format) into a single file containing an intermediate RMIR (Riva Model Intermediate Representation) format. The RMIR file contains a deployment-agnostic specification of the entire pipeline along with all the assets required for the final deployment and inference. Check out the [documentation](https://docs.nvidia.com/deeplearning/riva/user-guide/docs/model-overview.html) to find out more."
   ]
  },
  {
   "cell_type": "markdown",
   "metadata": {},
   "source": [
    "Start by setting up the relevant paths:"
   ]
  },
  {
   "cell_type": "code",
   "execution_count": 16,
   "metadata": {},
   "outputs": [],
   "source": [
    "# Set the workspace path to \"/path/to/your/workspace\"\n",
    "WORKSPACE = \"/dli/task\"\n",
    "\n",
    "# ServiceMaker container\n",
    "RIVA_SM_CONTAINER = \"nvcr.io/nvidia/riva/riva-speech:1.4.0-beta-servicemaker\"\n",
    "\n",
    "# Directory where the exported .riva model is stored $MODEL_LOC/*.riva\n",
    "MODEL_LOC = WORKSPACE + \"/tao/results/quartznet/export\"\n",
    "\n",
    "# Riva model repo \n",
    "RIVA_MODEL_LOC = WORKSPACE + \"/riva/riva_quickstart/models_repo\"\n",
    "\n",
    "# Directory where the .rmir model will be stored $RMIR_LOC/*.rmir\n",
    "RMIR_LOC = RIVA_MODEL_LOC+ \"/rmir\"\n",
    "\n",
    "# Name of the .erjvs file\n",
    "MODEL_NAME = \"asr-model.riva\"\n",
    "\n",
    "# Key that model is encrypted with, while exporting with TAO\n",
    "KEY='tlt_encode'"
   ]
  },
  {
   "cell_type": "markdown",
   "metadata": {},
   "source": [
    "Pull the Riva ServiceMaker container image (see [NGC riva-speech image repository](https://ngc.nvidia.com/catalog/containers/nvidia:riva:riva-speech))."
   ]
  },
  {
   "cell_type": "code",
   "execution_count": 17,
   "metadata": {
    "scrolled": true
   },
   "outputs": [
    {
     "name": "stdout",
     "output_type": "stream",
     "text": [
      "1.4.0-beta-servicemaker: Pulling from nvidia/riva/riva-speech\n",
      "Digest: sha256:1b3e518158e13af3157478d519ba1025d9b4e704c819d1b05c33b03535edd1c1\n",
      "Status: Image is up to date for nvcr.io/nvidia/riva/riva-speech:1.4.0-beta-servicemaker\n",
      "nvcr.io/nvidia/riva/riva-speech:1.4.0-beta-servicemaker\n"
     ]
    }
   ],
   "source": [
    "# Get the ServiceMaker container\n",
    "!docker pull $RIVA_SM_CONTAINER"
   ]
  },
  {
   "cell_type": "markdown",
   "metadata": {},
   "source": [
    "Run the container we just pulled with the `riva-build` command.  The [`--decoder_type` is required](https://docs.nvidia.com/deeplearning/riva/user-guide/docs/release-notes.html?highlight=decoder_type#riva-speech-skills-1-4-0-beta)."
   ]
  },
  {
   "cell_type": "code",
   "execution_count": 18,
   "metadata": {
    "scrolled": true
   },
   "outputs": [
    {
     "name": "stdout",
     "output_type": "stream",
     "text": [
      "\n",
      "==========================\n",
      "=== Riva Speech Skills ===\n",
      "==========================\n",
      "\n",
      "NVIDIA Release devel (build 22382700)\n",
      "\n",
      "Copyright (c) 2018-2021, NVIDIA CORPORATION.  All rights reserved.\n",
      "\n",
      "Various files include modifications (c) NVIDIA CORPORATION.  All rights reserved.\n",
      "NVIDIA modifications are covered by the license terms that apply to the underlying\n",
      "project or file.\n",
      "\n",
      "NOTE: Legacy NVIDIA Driver detected.  Compatibility mode ENABLED.\n",
      "\n",
      "NOTE: The SHMEM allocation limit is set to the default of 64MB.  This may be\n",
      "   insufficient for the inference server.  NVIDIA recommends the use of the following flags:\n",
      "   nvidia-docker run --shm-size=1g --ulimit memlock=-1 --ulimit stack=67108864 ...\n",
      "\n",
      "2022-06-22 09:53:07,013 [ERROR] /riva/asr.rmir exists.  Use --force/-f to overwrite.\n"
     ]
    }
   ],
   "source": [
    "# Syntax: riva-build <task-name> --decoder_type=<decoder> output-dir-for-rmir/model.rmir:key dir-for-riva/model.riva:key\n",
    "!docker run --rm --gpus 1 \\\n",
    "    -v $MODEL_LOC:/tao \\\n",
    "    -v $RMIR_LOC:/riva \\\n",
    "    $RIVA_SM_CONTAINER -- \\\n",
    "    riva-build speech_recognition --decoder_type=greedy /riva/asr.rmir:$KEY /tao/$MODEL_NAME:$KEY"
   ]
  },
  {
   "cell_type": "code",
   "execution_count": 19,
   "metadata": {},
   "outputs": [
    {
     "name": "stdout",
     "output_type": "stream",
     "text": [
      "asr.rmir\n"
     ]
    }
   ],
   "source": [
    "# check the generated rmir model\n",
    "!ls $RMIR_LOC"
   ]
  },
  {
   "cell_type": "markdown",
   "metadata": {},
   "source": [
    "## 5.2.2 `riva-deploy`\n",
    "\n",
    "The deployment tool takes as input one or more RMIR files and an output directory for the finished models. It creates an ensemble configuration specifying the pipeline for the execution, then writes all those assets to the output model repository. This step will take a few minutes as it generates optimized models with [NVIDIA TensorRT](https://developer.nvidia.com/tensorrt).\n",
    "\n",
    "[`riva-asr/config.pbtxt`](riva/riva_quickstart/models_repo/models/riva-asr/config.pbtxt) describes the model input/output format and the ensemble scheduling for the ASR task, which includes the following models:\n",
    "\n",
    "- Feature extractor `riva-asr-feature-extractor-streaming`\n",
    "- ASR `riva-trt-riva-asr-am-streaming`\n",
    "- Voice activity detector `riva-asr-voice-activity-detector-ctc-streaming`\n",
    "- CTC (Connectionist Temporal Classification) decoder `riva-asr-ctc-decoder-cpu-streaming`\n",
    "\n",
    "<img src=\"images/asr/riva_asr.png\">"
   ]
  },
  {
   "cell_type": "code",
   "execution_count": 20,
   "metadata": {},
   "outputs": [
    {
     "name": "stdout",
     "output_type": "stream",
     "text": [
      "\n",
      "==========================\n",
      "=== Riva Speech Skills ===\n",
      "==========================\n",
      "\n",
      "NVIDIA Release devel (build 22382700)\n",
      "\n",
      "Copyright (c) 2018-2021, NVIDIA CORPORATION.  All rights reserved.\n",
      "\n",
      "Various files include modifications (c) NVIDIA CORPORATION.  All rights reserved.\n",
      "NVIDIA modifications are covered by the license terms that apply to the underlying\n",
      "project or file.\n",
      "\n",
      "NOTE: Legacy NVIDIA Driver detected.  Compatibility mode ENABLED.\n",
      "\n",
      "NOTE: The SHMEM allocation limit is set to the default of 64MB.  This may be\n",
      "   insufficient for the inference server.  NVIDIA recommends the use of the following flags:\n",
      "   nvidia-docker run --shm-size=1g --ulimit memlock=-1 --ulimit stack=67108864 ...\n",
      "\n",
      "2022-06-22 09:54:46,278 [INFO] Writing Riva model repository to '/data/models/'...\n",
      "2022-06-22 09:54:46,278 [INFO] The riva model repo target directory is /data/models/\n",
      "2022-06-22 09:54:46,525 [INFO] Extract_binaries for featurizer -> /data/models/riva-asr-feature-extractor-streaming/1\n",
      "2022-06-22 09:54:46,527 [INFO] Extract_binaries for nn -> /data/models/riva-trt-riva-asr-am-streaming/1\n",
      "2022-06-22 09:54:47,278 [INFO] Printing copied artifacts:\n",
      "2022-06-22 09:54:47,278 [INFO] {'onnx': '/data/models/riva-trt-riva-asr-am-streaming/1/model_graph.onnx'}\n",
      "2022-06-22 09:54:47,278 [INFO] Building TRT engine from ONNX file\n",
      "[TensorRT] WARNING: /workspace/TensorRT/t/oss-cicd/oss/parsers/onnx/onnx2trt_utils.cpp:227: Your ONNX model has been generated with INT64 weights, while TensorRT does not natively support INT64. Attempting to cast down to INT32.\n",
      "2022-06-22 10:01:01,938 [INFO] Extract_binaries for vad -> /data/models/riva-asr-voice-activity-detector-ctc-streaming/1\n",
      "2022-06-22 10:01:01,940 [INFO] Extract_binaries for lm_decoder -> /data/models/riva-asr-ctc-decoder-cpu-streaming/1\n",
      "2022-06-22 10:01:01,941 [INFO] {'vocab_file': '/data/models/riva-asr-ctc-decoder-cpu-streaming/1/vocab.txt'}\n",
      "2022-06-22 10:01:01,942 [INFO] Extract_binaries for self -> /data/models/riva-asr/1\n"
     ]
    }
   ],
   "source": [
    "# This can take a few minutes\n",
    "# Syntax: riva-deploy -f dir-for-rmir/model.rmir:key output-dir-for-repository\n",
    "!docker run --rm --gpus 1 \\\n",
    "     -v $RIVA_MODEL_LOC:/data \\\n",
    "     $RIVA_SM_CONTAINER -- \\\n",
    "     riva-deploy -f  /data/rmir/asr.rmir:$KEY /data/models/"
   ]
  },
  {
   "cell_type": "markdown",
   "metadata": {},
   "source": [
    "You can check the generated models in the Riva models location, `$RIVA_MODEL_LOC/models`. The ASR pipeline description can be found in $RIVA_MODEL_LOC/models/riva-asr/config.pbtxt "
   ]
  },
  {
   "cell_type": "code",
   "execution_count": 21,
   "metadata": {},
   "outputs": [
    {
     "name": "stdout",
     "output_type": "stream",
     "text": [
      "riva-asr\n",
      "riva-asr-ctc-decoder-cpu-streaming\n",
      "riva-asr-feature-extractor-streaming\n",
      "riva-asr-voice-activity-detector-ctc-streaming\n",
      "riva-trt-riva-asr-am-streaming\n"
     ]
    }
   ],
   "source": [
    "# Check optimized models \n",
    "!ls $RIVA_MODEL_LOC/models"
   ]
  },
  {
   "cell_type": "code",
   "execution_count": 22,
   "metadata": {
    "scrolled": true
   },
   "outputs": [
    {
     "name": "stdout",
     "output_type": "stream",
     "text": [
      "name: \"riva-asr\"\n",
      "platform: \"ensemble\"\n",
      "max_batch_size: 64\n",
      "input {\n",
      "  name: \"AUDIO_SIGNAL\"\n",
      "  data_type: TYPE_FP32\n",
      "  dims: [-1]\n",
      "}\n",
      "input {\n",
      "  name: \"SAMPLE_RATE\"\n",
      "  data_type: TYPE_UINT32\n",
      "  dims: [1]\n",
      "}\n",
      "input {\n",
      "  name: \"END_FLAG\"\n",
      "  data_type: TYPE_UINT32\n",
      "  dims: [1]\n",
      "}\n",
      "input {\n",
      "  name: \"CUSTOM_CONFIGURATION\"\n",
      "  data_type: TYPE_STRING\n",
      "  dims: [-1, 2]\n",
      "}\n",
      "output {\n",
      "  name: \"FINAL_TRANSCRIPTS\"\n",
      "  data_type: TYPE_STRING\n",
      "  dims: [-1]\n",
      "}\n",
      "output {\n",
      "  name: \"FINAL_TRANSCRIPTS_SCORE\"\n",
      "  data_type: TYPE_FP32\n",
      "  dims: [-1]\n",
      "}\n",
      "output {\n",
      "  name: \"FINAL_WORDS_START_END\"\n",
      "  data_type: TYPE_INT32\n",
      "  dims: [-1, 2]\n",
      "}\n",
      "output {\n",
      "  name: \"PARTIAL_TRANSCRIPTS\"\n",
      "  data_type: TYPE_STRING\n",
      "  dims: [-1]\n",
      "}\n",
      "output {\n",
      "  name: \"PARTIAL_TRANSCRIPTS_STABILITY\"\n",
      "  data_type: TYPE_FP32\n",
      "  dims: [-1]\n",
      "}\n",
      "output {\n",
      "  name: \"PARTIAL_WORDS_START_END\"\n",
      "  data_type: TYPE_INT32\n",
      "  dims: [-1, 2]\n",
      "}\n",
      "output {\n",
      "  name: \"AUDIO_PROCESSED\"\n",
      "  data_type: TYPE_FP32\n",
      "  dims: [1]\n",
      "}\n",
      "parameters {\n",
      "  key: \"chunk_size\"\n",
      "  value {\n",
      "    string_value: \"0.1\"\n",
      "  }\n",
      "}\n",
      "parameters {\n",
      "  key: \"compute_timestamps\"\n",
      "  value {\n",
      "    string_value: \"True\"\n",
      "  }\n",
      "}\n",
      "parameters {\n",
      "  key: \"decoder_type\"\n",
      "  value {\n",
      "    string_value: \"greedy\"\n",
      "  }\n",
      "}\n",
      "parameters {\n",
      "  key: \"language_code\"\n",
      "  value {\n",
      "    string_value: \"en-US\"\n",
      "  }\n",
      "}\n",
      "parameters {\n",
      "  key: \"lattice_beam\"\n",
      "  value {\n",
      "    string_value: \"5\"\n",
      "  }\n",
      "}\n",
      "parameters {\n",
      "  key: \"left_padding_size\"\n",
      "  value {\n",
      "    string_value: \"1.2\"\n",
      "  }\n",
      "}\n",
      "parameters {\n",
      "  key: \"max_supported_transcripts\"\n",
      "  value {\n",
      "    string_value: \"1\"\n",
      "  }\n",
      "}\n",
      "parameters {\n",
      "  key: \"model_family\"\n",
      "  value {\n",
      "    string_value: \"riva\"\n",
      "  }\n",
      "}\n",
      "parameters {\n",
      "  key: \"ms_per_timestep\"\n",
      "  value {\n",
      "    string_value: \"20\"\n",
      "  }\n",
      "}\n",
      "parameters {\n",
      "  key: \"offline\"\n",
      "  value {\n",
      "    string_value: \"False\"\n",
      "  }\n",
      "}\n",
      "parameters {\n",
      "  key: \"right_padding_size\"\n",
      "  value {\n",
      "    string_value: \"1.2\"\n",
      "  }\n",
      "}\n",
      "parameters {\n",
      "  key: \"sample_rate\"\n",
      "  value {\n",
      "    string_value: \"16000\"\n",
      "  }\n",
      "}\n",
      "parameters {\n",
      "  key: \"streaming\"\n",
      "  value {\n",
      "    string_value: \"True\"\n",
      "  }\n",
      "}\n",
      "parameters {\n",
      "  key: \"type\"\n",
      "  value {\n",
      "    string_value: \"online\"\n",
      "  }\n",
      "}\n",
      "parameters {\n",
      "  key: \"vad\"\n",
      "  value {\n",
      "    string_value: \"True\"\n",
      "  }\n",
      "}\n",
      "ensemble_scheduling {\n",
      "  step {\n",
      "    model_name: \"riva-asr-feature-extractor-streaming\"\n",
      "    model_version: 1\n",
      "    input_map {\n",
      "      key: \"AUDIO_SIGNAL\"\n",
      "      value: \"AUDIO_SIGNAL\"\n",
      "    }\n",
      "    input_map {\n",
      "      key: \"SAMPLE_RATE\"\n",
      "      value: \"SAMPLE_RATE\"\n",
      "    }\n",
      "    output_map {\n",
      "      key: \"AUDIO_FEATURES\"\n",
      "      value: \"AUDIO_FEATURES\"\n",
      "    }\n",
      "    output_map {\n",
      "      key: \"AUDIO_PROCESSED\"\n",
      "      value: \"AUDIO_PROCESSED\"\n",
      "    }\n",
      "  }\n",
      "  step {\n",
      "    model_name: \"riva-trt-riva-asr-am-streaming\"\n",
      "    model_version: 1\n",
      "    input_map {\n",
      "      key: \"audio_signal\"\n",
      "      value: \"AUDIO_FEATURES\"\n",
      "    }\n",
      "    output_map {\n",
      "      key: \"logprobs\"\n",
      "      value: \"CHARACTER_PROBABILITIES\"\n",
      "    }\n",
      "  }\n",
      "  step {\n",
      "    model_name: \"riva-asr-voice-activity-detector-ctc-streaming\"\n",
      "    model_version: 1\n",
      "    input_map {\n",
      "      key: \"CLASS_LOGITS\"\n",
      "      value: \"CHARACTER_PROBABILITIES\"\n",
      "    }\n",
      "    output_map {\n",
      "      key: \"SEGMENTS_START_END\"\n",
      "      value: \"SEGMENTS_START_END\"\n",
      "    }\n",
      "  }\n",
      "  step {\n",
      "    model_name: \"riva-asr-ctc-decoder-cpu-streaming\"\n",
      "    model_version: 1\n",
      "    input_map {\n",
      "      key: \"CLASS_LOGITS\"\n",
      "      value: \"CHARACTER_PROBABILITIES\"\n",
      "    }\n",
      "    input_map {\n",
      "      key: \"CUSTOM_CONFIGURATION\"\n",
      "      value: \"CUSTOM_CONFIGURATION\"\n",
      "    }\n",
      "    input_map {\n",
      "      key: \"END_FLAG\"\n",
      "      value: \"END_FLAG\"\n",
      "    }\n",
      "    input_map {\n",
      "      key: \"SEGMENTS_START_END\"\n",
      "      value: \"SEGMENTS_START_END\"\n",
      "    }\n",
      "    output_map {\n",
      "      key: \"FINAL_TRANSCRIPTS\"\n",
      "      value: \"FINAL_TRANSCRIPTS\"\n",
      "    }\n",
      "    output_map {\n",
      "      key: \"FINAL_TRANSCRIPTS_SCORE\"\n",
      "      value: \"FINAL_TRANSCRIPTS_SCORE\"\n",
      "    }\n",
      "    output_map {\n",
      "      key: \"FINAL_WORDS_START_END\"\n",
      "      value: \"FINAL_WORDS_START_END\"\n",
      "    }\n",
      "    output_map {\n",
      "      key: \"PARTIAL_TRANSCRIPTS\"\n",
      "      value: \"PARTIAL_TRANSCRIPTS\"\n",
      "    }\n",
      "    output_map {\n",
      "      key: \"PARTIAL_TRANSCRIPTS_STABILITY\"\n",
      "      value: \"PARTIAL_TRANSCRIPTS_STABILITY\"\n",
      "    }\n",
      "    output_map {\n",
      "      key: \"PARTIAL_WORDS_START_END\"\n",
      "      value: \"PARTIAL_WORDS_START_END\"\n",
      "    }\n",
      "  }\n",
      "}\n"
     ]
    }
   ],
   "source": [
    "# Check ASR ensembling\n",
    "!cat $RIVA_MODEL_LOC/models/riva-asr/config.pbtxt"
   ]
  },
  {
   "cell_type": "markdown",
   "metadata": {},
   "source": [
    "---\n",
    "# 5.3 Riva Server\n",
    "After the model repository is generated, we are ready to start the Riva server.  For this step, we use Riva Quick Start scripts downloaded from NGC.  The scripts have already been downloaded for the class.  You can download them yourself, either directly from NGC while logged in, or using the NGC command line tool (see [Riva Speech Skills Quick Start Guide](https://docs.nvidia.com/deeplearning/riva/user-guide/docs/quick-start-guide.html#local-deployment-using-quick-start-scripts)). \n",
    "\n",
    "Set `RIVA_QS` to the `riva_quickstart` location:  "
   ]
  },
  {
   "cell_type": "code",
   "execution_count": 23,
   "metadata": {},
   "outputs": [],
   "source": [
    "# Set the Riva Quick Start directory\n",
    "RIVA_QS = WORKSPACE + \"/riva/riva_quickstart\""
   ]
  },
  {
   "cell_type": "code",
   "execution_count": 24,
   "metadata": {},
   "outputs": [
    {
     "name": "stdout",
     "output_type": "stream",
     "text": [
      "asr_lm_tools\t\t\t    riva_api-1.4.0b0-py3-none-any.whl\n",
      "config.sh\t\t\t    riva_clean.sh\n",
      "examples\t\t\t    riva_init.sh\n",
      "models_repo\t\t\t    riva_start.sh\n",
      "nb_demo_speech_api.ipynb\t    riva_start_client.sh\n",
      "nemo2riva-1.4.0b0-py3-none-any.whl  riva_stop.sh\n",
      "protos\n"
     ]
    }
   ],
   "source": [
    "!ls $RIVA_QS"
   ]
  },
  {
   "cell_type": "markdown",
   "metadata": {},
   "source": [
    "There are a number of scripts available for managing Riva services. We can initialize the models using `riva_init.sh`, then start and stop the server with `riva_start.sh` and `riva_stop.sh`. We also need to set flags and values in `config.sh` to specify which services and models we want to initiate and start. "
   ]
  },
  {
   "cell_type": "markdown",
   "metadata": {},
   "source": [
    "## 5.3.1 Riva Configuration"
   ]
  },
  {
   "cell_type": "markdown",
   "metadata": {},
   "source": [
    "Open [config.sh](riva/riva_quickstart/config.sh) and note the following important sections:\n",
    "\n",
    "##### Enable/Disable Riva Services\n",
    "For each service, a true value means that the server is enabled for that particular capability.  For example, if we just want to run an ASR server, we can set the `service_enabled_asr` parameter to be `true` and all other parameters `false`.  An enabled service also means that later in the config file, all NGC models listed in the section will be downloaded.\n",
    "```yaml\n",
    "# Enable or Disable Riva Services\n",
    "service_enabled_asr=true\n",
    "service_enabled_nlp=true\n",
    "service_enabled_tts=true\n",
    "```\n",
    "\n",
    "##### Set the Encryption Key\n",
    "   We want our encryption consistent for all of our projects, so we want this key to be the same as the one used to export our original model (and it already is!).  For the purposes of this class, this setting won't change.\n",
    "```yaml\n",
    "# Specify the encryption key to use to deploy models\n",
    "MODEL_DEPLOY_KEY=\"tlt_encode\"\n",
    "```\n",
    "\n",
    "##### Set the Model Location\n",
    "`riva_model_loc` should be the folder that contains both the `rmir` folder `models` folders.  This value will need to be changed to the actual absolute path for a given project.\n",
    "```yaml\n",
    "# Custom models produced by NeMo or TLT and prepared using riva-build\n",
    "# may also be copied manually to this location $(riva_model_loc/rmir).\n",
    "#\n",
    "# Models ($riva_model_loc/models)\n",
    "# During the riva_init process, the RMIR files in $riva_model_loc/rmir\n",
    "# are inspected and optimized for deployment. The optimized versions are\n",
    "# stored in $riva_model_loc/models. The riva server exclusively uses these\n",
    "# optimized versions.\n",
    "riva_model_loc=\"riva-model-repo\"\n",
    "```"
   ]
  },
  {
   "cell_type": "markdown",
   "metadata": {},
   "source": [
    "## 5.3.2 Exercise: Configure Riva for a Custom ASR\n",
    "Using what you've learned, modify [config.sh](riva/riva_quickstart/config.sh) to \n",
    "- Enable only the ASR service\n",
    "- Provide the correct encryption key (should already be correct)\n",
    "- Specify the correct model repository path to `riva_model_loc`"
   ]
  },
  {
   "cell_type": "markdown",
   "metadata": {},
   "source": [
    "Check your work against the [solution](solutions/ex5.3.2.sh) before moving on to the next section.  You can verify it with `diff` in the next cell. You should get no \"difference\" (an empty output) if your config file matches the solution."
   ]
  },
  {
   "cell_type": "code",
   "execution_count": 25,
   "metadata": {},
   "outputs": [
    {
     "name": "stdout",
     "output_type": "stream",
     "text": [
      "11,12c11,12\n",
      "< service_enabled_nlp=true\n",
      "< service_enabled_tts=true\n",
      "---\n",
      "> service_enabled_nlp=false\n",
      "> service_enabled_tts=false\n",
      "43c43\n",
      "< riva_model_loc=\"riva-model-repo\"\n",
      "---\n",
      "> riva_model_loc=\"/dli/task/riva/riva_quickstart/models_repo\"\n"
     ]
    }
   ],
   "source": [
    "# TODO modify config.sh so that this cell verifies changes are correct\n",
    "# There should be no output if the files match\n",
    "!diff $RIVA_QS/config.sh solutions/ex5.3.2.sh"
   ]
  },
  {
   "cell_type": "markdown",
   "metadata": {},
   "source": [
    "## 5.3.3 Riva Start Services\n",
    "\n",
    "The `riva_init.sh` script downloads the Riva containers needed, downloads models listed in `config.sh`, and optimizes  models as required with [NVIDIA TensorRT](https://developer.nvidia.com/tensorrt). Since we've already used the ServiceMaker `riva-deploy` tool to optimize the models we are using, `riva_init.sh` won't have much to do, but it is provided here for completeness.\n",
    "\n",
    "The `riva_start.sh` script starts the server."
   ]
  },
  {
   "cell_type": "code",
   "execution_count": 29,
   "metadata": {},
   "outputs": [],
   "source": [
    "# Ensure you have permission to execute these scripts\n",
    "!cd $RIVA_QS && chmod +x *.sh"
   ]
  },
  {
   "cell_type": "code",
   "execution_count": 30,
   "metadata": {
    "scrolled": true
   },
   "outputs": [
    {
     "name": "stdout",
     "output_type": "stream",
     "text": [
      "Logging into NGC docker registry if necessary...\n",
      "Pulling required docker images if necessary...\n",
      "Note: This may take some time, depending on the speed of your Internet connection.\n",
      "> Pulling Riva Speech Server images.\n",
      "  > Image nvcr.io/nvidia/riva/riva-speech:1.4.0-beta-server exists. Skipping.\n",
      "  > Image nvcr.io/nvidia/riva/riva-speech-client:1.4.0-beta exists. Skipping.\n",
      "  > Image nvcr.io/nvidia/riva/riva-speech:1.4.0-beta-servicemaker exists. Skipping.\n",
      "\n",
      "Downloading models (RMIRs) from NGC...\n",
      "Note: this may take some time, depending on the speed of your Internet connection.\n",
      "To skip this process and use existing RMIRs set the location and corresponding flag in config.sh.\n",
      "\n",
      "==========================\n",
      "=== Riva Speech Skills ===\n",
      "==========================\n",
      "\n",
      "NVIDIA Release devel (build 22382700)\n",
      "\n",
      "Copyright (c) 2018-2021, NVIDIA CORPORATION.  All rights reserved.\n",
      "\n",
      "Various files include modifications (c) NVIDIA CORPORATION.  All rights reserved.\n",
      "NVIDIA modifications are covered by the license terms that apply to the underlying\n",
      "project or file.\n",
      "\n",
      "NOTE: Legacy NVIDIA Driver detected.  Compatibility mode ENABLED.\n",
      "\n",
      "NOTE: The SHMEM allocation limit is set to the default of 64MB.  This may be\n",
      "   insufficient for the inference server.  NVIDIA recommends the use of the following flags:\n",
      "   nvidia-docker run --shm-size=1g --ulimit memlock=-1 --ulimit stack=67108864 ...\n",
      "\n",
      "/data/artifacts /opt/riva\n",
      "/opt/riva\n",
      "\n",
      "Converting RMIRs at /dli/task/riva/riva_quickstart/models_repo/rmir to Riva Model repository.\n",
      "+ docker run --init -it --rm --gpus '\"device=0\"' -v /dli/task/riva/riva_quickstart/models_repo:/data -e MODEL_DEPLOY_KEY=tlt_encode --name riva-service-maker nvcr.io/nvidia/riva/riva-speech:1.4.0-beta-servicemaker deploy_all_models /data/rmir /data/models\n",
      "\n",
      "==========================\n",
      "=== Riva Speech Skills ===\n",
      "==========================\n",
      "\n",
      "NVIDIA Release devel (build 22382700)\n",
      "\n",
      "Copyright (c) 2018-2021, NVIDIA CORPORATION.  All rights reserved.\n",
      "\n",
      "Various files include modifications (c) NVIDIA CORPORATION.  All rights reserved.\n",
      "NVIDIA modifications are covered by the license terms that apply to the underlying\n",
      "project or file.\n",
      "\n",
      "NOTE: Legacy NVIDIA Driver detected.  Compatibility mode ENABLED.\n",
      "\n",
      "NOTE: The SHMEM allocation limit is set to the default of 64MB.  This may be\n",
      "   insufficient for the inference server.  NVIDIA recommends the use of the following flags:\n",
      "   nvidia-docker run --shm-size=1g --ulimit memlock=-1 --ulimit stack=67108864 ...\n",
      "\n",
      "2022-06-22 10:05:12,965 [INFO] Writing Riva model repository to '/data/models'...\n",
      "2022-06-22 10:05:12,965 [INFO] The riva model repo target directory is /data/models\n",
      "2022-06-22 10:05:13,209 [WARNING] /data/models/riva-asr-feature-extractor-streaming already exists, skipping deployment.  To force deployment rerun with -f or remove the /data/models/riva-asr-feature-extractor-streaming\n",
      "2022-06-22 10:05:13,209 [WARNING] /data/models/riva-trt-riva-asr-am-streaming already exists, skipping deployment.  To force deployment rerun with -f or remove the /data/models/riva-trt-riva-asr-am-streaming\n",
      "2022-06-22 10:05:13,209 [WARNING] /data/models/riva-asr-voice-activity-detector-ctc-streaming already exists, skipping deployment.  To force deployment rerun with -f or remove the /data/models/riva-asr-voice-activity-detector-ctc-streaming\n",
      "2022-06-22 10:05:13,209 [WARNING] /data/models/riva-asr-ctc-decoder-cpu-streaming already exists, skipping deployment.  To force deployment rerun with -f or remove the /data/models/riva-asr-ctc-decoder-cpu-streaming\n",
      "2022-06-22 10:05:13,209 [WARNING] /data/models/riva-asr already exists, skipping deployment.  To force deployment rerun with -f or remove the /data/models/riva-asr\n",
      "+ echo\n",
      "\n",
      "+ echo 'Riva initialization complete. Run ./riva_start.sh to launch services.'\n",
      "Riva initialization complete. Run ./riva_start.sh to launch services.\n"
     ]
    }
   ],
   "source": [
    "# Initialize Riva\n",
    "!cd $RIVA_QS && bash riva_init.sh config.sh"
   ]
  },
  {
   "cell_type": "code",
   "execution_count": 31,
   "metadata": {},
   "outputs": [
    {
     "name": "stdout",
     "output_type": "stream",
     "text": [
      "Starting Riva Speech Services. This may take several minutes depending on the number of models deployed.\n",
      "Waiting for Riva server to load all models...retrying in 10 seconds\n",
      "Waiting for Riva server to load all models...retrying in 10 seconds\n",
      "Riva server is ready...\n"
     ]
    }
   ],
   "source": [
    "# Run Riva Start. This will deploy your model(s).\n",
    "!cd $RIVA_QS && bash riva_start.sh config.sh"
   ]
  },
  {
   "cell_type": "markdown",
   "metadata": {},
   "source": [
    "Riva ASR services should be running when you get \"Riva server is ready...\" (about 30 seconds).\n",
    "\n",
    "##### Troubleshooting:\n",
    "If it failed, open a terminal and clean the Riva model repository with:\n",
    "\n",
    "```\n",
    "cd /dli/task/riva/riva_quickstart && bash riva_clean.sh config.sh\n",
    "```\n",
    "   \n",
    "Run `riva-deploy` again as explained in [section 5.2.2](#5.2.2-riva-deploy)."
   ]
  },
  {
   "cell_type": "markdown",
   "metadata": {},
   "source": [
    "## 5.3.4 Riva Available Services Check\n",
    "\n",
    "To check the exposed Riva services, run the `docker logs riva-speech` command. \n",
    "\n",
    "You should see the following models ready:\n",
    "\n",
    "<img src=\"images/asr/riva_speech_logs.png\">"
   ]
  },
  {
   "cell_type": "code",
   "execution_count": 32,
   "metadata": {
    "scrolled": true
   },
   "outputs": [
    {
     "name": "stdout",
     "output_type": "stream",
     "text": [
      "\n",
      "==========================\n",
      "=== Riva Speech Skills ===\n",
      "==========================\n",
      "\n",
      "NVIDIA Release 21.07 (build 25292380)\n",
      "\n",
      "Copyright (c) 2018-2021, NVIDIA CORPORATION.  All rights reserved.\n",
      "\n",
      "Various files include modifications (c) NVIDIA CORPORATION.  All rights reserved.\n",
      "NVIDIA modifications are covered by the license terms that apply to the underlying\n",
      "project or file.\n",
      "\n",
      "NOTE: Legacy NVIDIA Driver detected.  Compatibility mode ENABLED.\n",
      "\n",
      "NOTE: The SHMEM allocation limit is set to the default of 64MB.  This may be\n",
      "   insufficient for the inference server.  NVIDIA recommends the use of the following flags:\n",
      "   nvidia-docker run --shm-size=1g --ulimit memlock=-1 --ulimit stack=67108864 ...\n",
      "\n",
      "  > Riva waiting for Triton server to load all models...retrying in 1 second\n",
      "I0622 10:05:20.405663 74 metrics.cc:228] Collecting metrics for GPU 0: Tesla T4\n",
      "I0622 10:05:20.456804 74 onnxruntime.cc:1722] TRITONBACKEND_Initialize: onnxruntime\n",
      "I0622 10:05:20.457637 74 onnxruntime.cc:1732] Triton TRITONBACKEND API version: 1.0\n",
      "I0622 10:05:20.457652 74 onnxruntime.cc:1738] 'onnxruntime' TRITONBACKEND API version: 1.0\n",
      "I0622 10:05:20.661561 74 pinned_memory_manager.cc:206] Pinned memory pool is created at '0x7f988c000000' with size 268435456\n",
      "I0622 10:05:20.661963 74 cuda_memory_manager.cc:103] CUDA memory pool is created on device 0 with size 1000000000\n",
      "I0622 10:05:20.694327 74 model_repository_manager.cc:1066] loading: riva-asr-feature-extractor-streaming:1\n",
      "I0622 10:05:20.794667 74 model_repository_manager.cc:1066] loading: riva-asr-ctc-decoder-cpu-streaming:1\n",
      "I0622 10:05:20.795175 74 custom_backend.cc:201] Creating instance riva-asr-feature-extractor-streaming_0_0_gpu0 on GPU 0 (7.5) using libtriton_riva_asr_features.so\n",
      "I0622 10:05:20.895063 74 model_repository_manager.cc:1066] loading: riva-asr-voice-activity-detector-ctc-streaming:1\n",
      "I0622 10:05:20.895324 74 custom_backend.cc:198] Creating instance riva-asr-ctc-decoder-cpu-streaming_0_0_cpu on CPU using libtriton_riva_asr_decoder_cpu.so\n",
      "W:parameter_parser.cc:106: Parameter forerunner_start_offset_ms could not be set from parameters\n",
      "W:parameter_parser.cc:107: Default value will be used\n",
      "W:parameter_parser.cc:106: Parameter voc_string could not be set from parameters\n",
      "W:parameter_parser.cc:107: Default value will be used\n",
      "I0622 10:05:20.936040 74 model_repository_manager.cc:1240] successfully loaded 'riva-asr-ctc-decoder-cpu-streaming' version 1\n",
      "I0622 10:05:20.995396 74 model_repository_manager.cc:1066] loading: riva-trt-riva-asr-am-streaming:1\n",
      "I0622 10:05:20.995669 74 custom_backend.cc:198] Creating instance riva-asr-voice-activity-detector-ctc-streaming_0_0_cpu on CPU using libtriton_riva_asr_vad.so\n",
      "I0622 10:05:21.016282 74 model_repository_manager.cc:1240] successfully loaded 'riva-asr-voice-activity-detector-ctc-streaming' version 1\n",
      "  > Riva waiting for Triton server to load all models...retrying in 1 second\n",
      "  > Riva waiting for Triton server to load all models...retrying in 1 second\n",
      "  > Riva waiting for Triton server to load all models...retrying in 1 second\n",
      "  > Riva waiting for Triton server to load all models...retrying in 1 second\n",
      "  > Riva waiting for Triton server to load all models...retrying in 1 second\n",
      "  > Riva waiting for Triton server to load all models...retrying in 1 second\n",
      "  > Riva waiting for Triton server to load all models...retrying in 1 second\n",
      "  > Riva waiting for Triton server to load all models...retrying in 1 second\n",
      "  > Riva waiting for Triton server to load all models...retrying in 1 second\n",
      "  > Riva waiting for Triton server to load all models...retrying in 1 second\n",
      "  > Riva waiting for Triton server to load all models...retrying in 1 second\n",
      "  > Riva waiting for Triton server to load all models...retrying in 1 second\n",
      "  > Riva waiting for Triton server to load all models...retrying in 1 second\n",
      "  > Riva waiting for Triton server to load all models...retrying in 1 second\n",
      "I0622 10:05:35.013249 74 model_repository_manager.cc:1240] successfully loaded 'riva-asr-feature-extractor-streaming' version 1\n",
      "I0622 10:05:35.268840 74 plan_backend.cc:384] Creating instance riva-trt-riva-asr-am-streaming_0_0_gpu0 on GPU 0 (7.5) using model.plan\n",
      "  > Riva waiting for Triton server to load all models...retrying in 1 second\n",
      "I0622 10:05:35.546665 74 plan_backend.cc:768] Created instance riva-trt-riva-asr-am-streaming_0_0_gpu0 on GPU 0 with stream priority 0 and optimization profile default[0];\n",
      "I0622 10:05:35.548520 74 model_repository_manager.cc:1240] successfully loaded 'riva-trt-riva-asr-am-streaming' version 1\n",
      "I0622 10:05:35.548913 74 model_repository_manager.cc:1066] loading: riva-asr:1\n",
      "I0622 10:05:35.649233 74 model_repository_manager.cc:1240] successfully loaded 'riva-asr' version 1\n",
      "I0622 10:05:35.649315 74 server.cc:504] \n",
      "+------------------+------+\n",
      "| Repository Agent | Path |\n",
      "+------------------+------+\n",
      "+------------------+------+\n",
      "\n",
      "I0622 10:05:35.649365 74 server.cc:543] \n",
      "+-------------+-----------------------------------------------------------------+--------+\n",
      "| Backend     | Path                                                            | Config |\n",
      "+-------------+-----------------------------------------------------------------+--------+\n",
      "| tensorrt    | <built-in>                                                      | {}     |\n",
      "| onnxruntime | /opt/tritonserver/backends/onnxruntime/libtriton_onnxruntime.so | {}     |\n",
      "+-------------+-----------------------------------------------------------------+--------+\n",
      "\n",
      "I0622 10:05:35.649418 74 server.cc:586] \n",
      "+------------------------------------------------+---------+--------+\n",
      "| Model                                          | Version | Status |\n",
      "+------------------------------------------------+---------+--------+\n",
      "| riva-asr                                       | 1       | READY  |\n",
      "| riva-asr-ctc-decoder-cpu-streaming             | 1       | READY  |\n",
      "| riva-asr-feature-extractor-streaming           | 1       | READY  |\n",
      "| riva-asr-voice-activity-detector-ctc-streaming | 1       | READY  |\n",
      "| riva-trt-riva-asr-am-streaming                 | 1       | READY  |\n",
      "+------------------------------------------------+---------+--------+\n",
      "\n",
      "I0622 10:05:35.649501 74 tritonserver.cc:1658] \n",
      "+----------------------------------+----------------------------------------------------------------------------------------------------------------------------------------------------------------------------------------+\n",
      "| Option                           | Value                                                                                                                                                                                  |\n",
      "+----------------------------------+----------------------------------------------------------------------------------------------------------------------------------------------------------------------------------------+\n",
      "| server_id                        | triton                                                                                                                                                                                 |\n",
      "| server_version                   | 2.9.0                                                                                                                                                                                  |\n",
      "| server_extensions                | classification sequence model_repository model_repository(unload_dependents) schedule_policy model_configuration system_shared_memory cuda_shared_memory binary_tensor_data statistics |\n",
      "| model_repository_path[0]         | /data/models                                                                                                                                                                           |\n",
      "| model_control_mode               | MODE_NONE                                                                                                                                                                              |\n",
      "| strict_model_config              | 1                                                                                                                                                                                      |\n",
      "| pinned_memory_pool_byte_size     | 268435456                                                                                                                                                                              |\n",
      "| cuda_memory_pool_byte_size{0}    | 1000000000                                                                                                                                                                             |\n",
      "| min_supported_compute_capability | 6.0                                                                                                                                                                                    |\n",
      "| strict_readiness                 | 1                                                                                                                                                                                      |\n",
      "| exit_timeout                     | 30                                                                                                                                                                                     |\n",
      "+----------------------------------+----------------------------------------------------------------------------------------------------------------------------------------------------------------------------------------+\n",
      "\n",
      "I0622 10:05:35.664517 74 grpc_server.cc:4028] Started GRPCInferenceService at 0.0.0.0:8001\n",
      "I0622 10:05:35.666243 74 http_server.cc:2761] Started HTTPService at 0.0.0.0:8000\n",
      "I0622 10:05:35.708477 74 http_server.cc:2780] Started Metrics Service at 0.0.0.0:8002\n",
      "  > Triton server is ready...\n",
      "I0622 10:05:36.550237   173 grpc_health.cc:27] RivaHealthService initialized with server: localhost:8001\n",
      "I0622 10:05:36.551975   173 grpc_riva_asr.cc:148] Setting uri for ASRServiceImpl\n",
      "I0622 10:05:36.551985   173 grpc_riva_asr.cc:149] Initializing different models\n",
      "I0622 10:05:36.560708   173 model_registry.cc:36] RivaModelRegistry initialized with server: localhost:8001\n",
      "I0622 10:05:36.565713   173 model_registry.cc:65] Server Name: triton, Server version: 2.9.0\n",
      "I0622 10:05:36.565940   173 model_registry.cc:86] Our model repository has a total of: 5 models\n",
      "I0622 10:05:36.565951   173 model_registry.cc:91] Model names: riva-asr, Model version: 1\n",
      "I0622 10:05:36.578239   173 model_registry.cc:104] 'Successfully registering riva-asr'\n",
      "I0622 10:05:36.578291   173 model_registry.cc:91] Model names: riva-asr-ctc-decoder-cpu-streaming, Model version: 1\n",
      "I0622 10:05:36.579329   173 model_registry.cc:91] Model names: riva-asr-feature-extractor-streaming, Model version: 1\n",
      "I0622 10:05:36.580271   173 model_registry.cc:91] Model names: riva-asr-voice-activity-detector-ctc-streaming, Model version: 1\n",
      "I0622 10:05:36.580982   173 model_registry.cc:91] Model names: riva-trt-riva-asr-am-streaming, Model version: 1\n",
      "I0622 10:05:36.581576   173 model_registry.cc:109] Successfully registered: 1 models.\n",
      "I0622 10:05:36.581595   173 client.cc:38] RivaLanguageUnderstandingClient initialized with server: localhost:8001\n",
      "I0622 10:05:36.581799   173 client.cc:54] Our model repository has: 5 models.\n",
      "W0622 10:05:36.582728   173 client.cc:78] Registration of 'riva-asr' failed with unknown service type\n",
      "I0622 10:05:36.590037   173 grpc_riva_asr.cc:173] Punctuation model does not exist on server\n",
      "I0622 10:05:36.590052   173 grpc_riva_asr.cc:177] Seeding RNG used for correlation id with time: 1655892336\n",
      "I0622 10:05:36.637434   173 grpc_riva_asr.cc:148] Setting uri for ASRServiceImpl\n",
      "I0622 10:05:36.637454   173 grpc_riva_asr.cc:149] Initializing different models\n",
      "I0622 10:05:36.637461   173 model_registry.cc:36] RivaModelRegistry initialized with server: localhost:8001\n",
      "I0622 10:05:36.637876   173 model_registry.cc:65] Server Name: triton, Server version: 2.9.0\n",
      "I0622 10:05:36.638124   173 model_registry.cc:86] Our model repository has a total of: 5 models\n",
      "I0622 10:05:36.638137   173 model_registry.cc:91] Model names: riva-asr, Model version: 1\n",
      "I0622 10:05:36.639173   173 model_registry.cc:104] 'Successfully registering riva-asr'\n",
      "I0622 10:05:36.639225   173 model_registry.cc:91] Model names: riva-asr-ctc-decoder-cpu-streaming, Model version: 1\n",
      "I0622 10:05:36.640236   173 model_registry.cc:91] Model names: riva-asr-feature-extractor-streaming, Model version: 1\n",
      "I0622 10:05:36.641104   173 model_registry.cc:91] Model names: riva-asr-voice-activity-detector-ctc-streaming, Model version: 1\n",
      "I0622 10:05:36.641832   173 model_registry.cc:91] Model names: riva-trt-riva-asr-am-streaming, Model version: 1\n",
      "I0622 10:05:36.642381   173 model_registry.cc:109] Successfully registered: 1 models.\n",
      "I0622 10:05:36.642395   173 client.cc:38] RivaLanguageUnderstandingClient initialized with server: localhost:8001\n",
      "I0622 10:05:36.642642   173 client.cc:54] Our model repository has: 5 models.\n",
      "W0622 10:05:36.643527   173 client.cc:78] Registration of 'riva-asr' failed with unknown service type\n",
      "I0622 10:05:36.646373   173 grpc_riva_asr.cc:173] Punctuation model does not exist on server\n",
      "I0622 10:05:36.646389   173 grpc_riva_asr.cc:177] Seeding RNG used for correlation id with time: 1655892336\n",
      "I0622 10:05:36.676394   173 riva_server.cc:93] ASR Service connected to Triton at localhost:8001\n",
      "I0622 10:05:36.676409   173 riva_server.cc:96] Riva Conversational AI Server listening on 0.0.0.0:50051\n"
     ]
    }
   ],
   "source": [
    "!docker logs riva-speech"
   ]
  },
  {
   "cell_type": "markdown",
   "metadata": {},
   "source": [
    "---\n",
    "# 5.4 Riva ASR Service Request\n",
    "Now that the Riva server is up and running with your models, you can send inference requests querying the server. \n",
    "To send gRPC (a remote procedure call protocol) requests, you can install Riva Python API bindings for the client. This is available as a pip wheel within the Riva Quick Start directory.  For this class, the API has already been installed.  If you were to run this on your own environment, you could do it with:\n",
    "```sh\n",
    "cd $RIVA_QS && pip install riva_api-1.3.0b0-py3-none-any.whl\n",
    "```\n"
   ]
  },
  {
   "cell_type": "code",
   "execution_count": 33,
   "metadata": {},
   "outputs": [
    {
     "name": "stdout",
     "output_type": "stream",
     "text": [
      "[Errno 2] No such file or directory: '/dli/task/riva/riva_quickstart && pip install riva_api-1.3.0b0-py3-none-any.whl'\n",
      "/dli/task\n"
     ]
    }
   ],
   "source": [
    "cd $RIVA_QS && pip install riva_api-1.3.0b0-py3-none-any.whl"
   ]
  },
  {
   "cell_type": "markdown",
   "metadata": {},
   "source": [
    "## 5.4.1 Python Client Demo\n",
    "The following cell creates a Python file that queries the Riva server (using gRPC) to yield a result."
   ]
  },
  {
   "cell_type": "code",
   "execution_count": 34,
   "metadata": {},
   "outputs": [
    {
     "name": "stdout",
     "output_type": "stream",
     "text": [
      "Writing /dli/task/riva/riva_quickstart/asr_client.py\n"
     ]
    }
   ],
   "source": [
    "%%writefile $RIVA_QS/asr_client.py\n",
    "\n",
    "import argparse\n",
    "import wave\n",
    "import sys\n",
    "import grpc\n",
    "import time\n",
    "import riva_api.audio_pb2 as ra\n",
    "import riva_api.riva_asr_pb2 as rasr\n",
    "import riva_api.riva_asr_pb2_grpc as rasr_srv\n",
    "\n",
    "\n",
    "def get_args():\n",
    "    parser = argparse.ArgumentParser(description=\"Streaming transcription via Riva AI Services\")\n",
    "    parser.add_argument(\"--server\", default=\"localhost:50051\", type=str, help=\"URI to GRPC server endpoint\")\n",
    "    parser.add_argument(\"--audio-file\", required=True, help=\"path to local file to stream\")\n",
    "    parser.add_argument(\n",
    "        \"--show-intermediate\", action=\"store_true\", help=\"show intermediate transcripts as they are available\"\n",
    "    )\n",
    "    return parser.parse_args()\n",
    "\n",
    "\n",
    "def listen_print_loop(responses, show_intermediate=False):\n",
    "    num_chars_printed = 0\n",
    "    idx = 0\n",
    "    for response in responses:\n",
    "        idx += 1\n",
    "        if not response.results:\n",
    "            continue\n",
    "\n",
    "        result = response.results[0]\n",
    "        if not result.alternatives:\n",
    "            continue\n",
    "\n",
    "        transcript = result.alternatives[0].transcript\n",
    "\n",
    "        if show_intermediate:\n",
    "            overwrite_chars = ' ' * (num_chars_printed - len(transcript))\n",
    "\n",
    "            if not result.is_final:\n",
    "                sys.stdout.write(\">> \" + transcript + overwrite_chars + '\\r')\n",
    "                sys.stdout.flush()\n",
    "\n",
    "                num_chars_printed = len(transcript) + 3\n",
    "\n",
    "            else:\n",
    "                print(\"## \" + transcript + overwrite_chars + \"\\n\")\n",
    "                num_chars_printed = 0\n",
    "        else:\n",
    "            if result.is_final:\n",
    "                print(f\"## {transcript.encode('utf-8')}\\n\")\n",
    "                sys.stdout.buffer.write(transcript.encode('utf-8'))\n",
    "\n",
    "CHUNK = 1024\n",
    "args = get_args()\n",
    "wf = wave.open(args.audio_file, 'rb')\n",
    "\n",
    "channel = grpc.insecure_channel(args.server)\n",
    "client = rasr_srv.RivaSpeechRecognitionStub(channel)\n",
    "\n",
    "\n",
    "config = rasr.RecognitionConfig(\n",
    "    encoding=ra.AudioEncoding.LINEAR_PCM,\n",
    "    sample_rate_hertz=wf.getframerate(),\n",
    "    language_code=\"en-US\",\n",
    "    max_alternatives=1,\n",
    "    enable_automatic_punctuation=True,\n",
    ")\n",
    "streaming_config = rasr.StreamingRecognitionConfig(config=config, interim_results=True)\n",
    "\n",
    "# read data\n",
    "def generator(w, s):\n",
    "    yield rasr.StreamingRecognizeRequest(streaming_config=s)\n",
    "    d = w.readframes(CHUNK)\n",
    "    while len(d) > 0:\n",
    "        yield rasr.StreamingRecognizeRequest(audio_content=d)\n",
    "        d = w.readframes(CHUNK)\n",
    "\n",
    "\n",
    "responses = client.StreamingRecognize(generator(wf, streaming_config))\n",
    "listen_print_loop(responses, show_intermediate=args.show_intermediate)"
   ]
  },
  {
   "cell_type": "code",
   "execution_count": null,
   "metadata": {},
   "outputs": [],
   "source": []
  },
  {
   "cell_type": "markdown",
   "metadata": {},
   "source": [
    "## 5.4.2 Request Riva ASR service\n",
    "Listen to a sample audio file and test it with the ASR client."
   ]
  },
  {
   "cell_type": "code",
   "execution_count": 35,
   "metadata": {},
   "outputs": [
    {
     "data": {
      "text/html": [
       "\n",
       "                <audio  controls=\"controls\" >\n",
       "                    <source src=\"data:audio/x-wav;base64,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\" type=\"audio/x-wav\" />\n",
       "                    Your browser does not support the audio element.\n",
       "                </audio>\n",
       "              "
      ],
      "text/plain": [
       "<IPython.lib.display.Audio object>"
      ]
     },
     "execution_count": 35,
     "metadata": {},
     "output_type": "execute_result"
    }
   ],
   "source": [
    "# change path of the file here\n",
    "import IPython.display as ipd\n",
    "path = WORKSPACE + '/tao/data/an4_converted/wavs/cen8-fkai-b.wav'\n",
    "ipd.Audio(path)"
   ]
  },
  {
   "cell_type": "code",
   "execution_count": 36,
   "metadata": {},
   "outputs": [
    {
     "name": "stdout",
     "output_type": "stream",
     "text": [
      "## b'October 1 1969. '\n",
      "\n",
      "October 1 1969. "
     ]
    }
   ],
   "source": [
    "# query RIVA asr service\n",
    "!python3 $RIVA_QS/asr_client.py --audio-file $path"
   ]
  },
  {
   "cell_type": "markdown",
   "metadata": {},
   "source": [
    "---\n",
    "# 5.5 Streaming ASR\n",
    "Riva Quick Start includes a directory of examples. We can use the streaming client to see how the ASR transcribes words as they are spoken in a stream.  Try it!"
   ]
  },
  {
   "cell_type": "code",
   "execution_count": 37,
   "metadata": {},
   "outputs": [
    {
     "name": "stdout",
     "output_type": "stream",
     "text": [
      "Number of clients: 1\n",
      "Number of iteration: 1\n",
      "Input file: /dli/task/tao/data/an4_converted/wavs/cen8-fkai-b.wav\n",
      "File duration: 2.20s\n",
      "1 threads done, output written to output_<thread_id>.txt\n"
     ]
    }
   ],
   "source": [
    "!python3 $RIVA_QS/examples/riva_streaming_asr_client.py  --input-file $path"
   ]
  },
  {
   "cell_type": "code",
   "execution_count": 38,
   "metadata": {},
   "outputs": [
    {
     "name": "stdout",
     "output_type": "stream",
     "text": [
      ">>>Time 0.06s: i to\n",
      ">>>Time 0.06s: a to\n",
      ">>>Time 0.07s: october\n",
      ">>>Time 0.07s:  octoberfer\n",
      ">>>Time 0.07s: october fer\n",
      ">>>Time 0.09s: october first\n",
      ">>>Time 0.10s: october first\n",
      ">>>Time 0.10s: october first night\n",
      ">>>Time 0.12s: october first nightien\n",
      ">>>Time 0.12s: october first ninetenh\n",
      ">>>Time 0.12s: october first ninetene tet\n",
      ">>>Time 0.14s: october first ninetee sext\n",
      ">>>Time 0.14s: october first nineteen sixtiny\n",
      ">>>Time 0.14s: october first nineteen sixtenen\n",
      ">>>Time 0.16s: october first nineteen sixty nine\n",
      ">>>Time 0.16s: october first nineteen sixty nine\n",
      ">>>Time 0.16s: october first nineteen sixty nine\n",
      ">>>Time 0.18s: october first nineteen sixty nine\n",
      "Time 0.18s: Transcript 0: october first nineteen sixty nine \n",
      ">>>Time 0.18s: \n"
     ]
    }
   ],
   "source": [
    "!cat output_0.txt"
   ]
  },
  {
   "cell_type": "markdown",
   "metadata": {},
   "source": [
    "## 5.5.1 Stop Riva Services \n",
    "We need to stop riva services as we will be modifying the deployed models."
   ]
  },
  {
   "cell_type": "code",
   "execution_count": 39,
   "metadata": {},
   "outputs": [
    {
     "name": "stdout",
     "output_type": "stream",
     "text": [
      "Shutting down docker containers...\n"
     ]
    }
   ],
   "source": [
    "# Run Riva Stop. \n",
    "!bash $RIVA_QS/riva_stop.sh"
   ]
  },
  {
   "cell_type": "markdown",
   "metadata": {},
   "source": [
    "---\n",
    "<h2 style=\"color:green;\">Congratulations!</h2>\n",
    "\n",
    "In this notebook, you have:\n",
    "- Transformed the ASR model to RMIR format\n",
    "- Configured and exposed the Riva ASR service\n",
    "- Requested the ASR service using a Python client API\n",
    "\n",
    "Next, you'll connect Riva services to a web application.  Move on to the [Riva Contact Application](006_ASR_Application.ipynb)."
   ]
  },
  {
   "cell_type": "markdown",
   "metadata": {},
   "source": [
    "<a href=\"https://www.nvidia.com/dli\"> <img src=\"images/DLI_Header.png\" alt=\"Header\" style=\"width: 400px;\"/> </a>"
   ]
  }
 ],
 "metadata": {
  "kernelspec": {
   "display_name": "Python 3 (ipykernel)",
   "language": "python",
   "name": "python3"
  },
  "language_info": {
   "codemirror_mode": {
    "name": "ipython",
    "version": 3
   },
   "file_extension": ".py",
   "mimetype": "text/x-python",
   "name": "python",
   "nbconvert_exporter": "python",
   "pygments_lexer": "ipython3",
   "version": "3.8.10"
  }
 },
 "nbformat": 4,
 "nbformat_minor": 4
}
