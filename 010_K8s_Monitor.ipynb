{
 "cells": [
  {
   "cell_type": "markdown",
   "id": "9232daa2",
   "metadata": {},
   "source": [
    "<a href=\"https://www.nvidia.com/dli\"> <img src=\"images/DLI_Header.png\" alt=\"Header\" style=\"width: 400px;\"/> </a>"
   ]
  },
  {
   "cell_type": "markdown",
   "id": "3ef704ba",
   "metadata": {},
   "source": [
    "# 10.0 Monitoring GPU within Kubernetes Cluster\n",
    "## (part of Lab 3)"
   ]
  },
  {
   "cell_type": "markdown",
   "id": "c4196fde",
   "metadata": {},
   "source": [
    "In this notebook, you'll learn to monitor and manage GPU resources across a K8s cluster using [NVIDIA Data Center GPU Manager (DCGM)](https://developer.nvidia.com/dcgm).  "
   ]
  },
  {
   "cell_type": "markdown",
   "id": "2e5be4b8",
   "metadata": {},
   "source": [
    "**[10.1 Deploy Prometheus](#10.1-Deploy-Prometheus)<br>**\n",
    "&nbsp;&nbsp;&nbsp;&nbsp;[10.1.1 Configuration File](#10.1.1-Configuration-File)<br>\n",
    "&nbsp;&nbsp;&nbsp;&nbsp;[10.1.2 Exercise: Override a Configuration Value](#10.1.2-Exercise:-Override-a-Configuration-Value)<br>\n",
    "**[10.2 Deploy `dcgm-exporter`](#10.2-Deploy-dcgm-exporter)<br>**\n",
    "**[10.3 Explore Prometheus and Grafana](#10.3-Explore-Prometheus-and-Grafana)<br>**\n",
    "&nbsp;&nbsp;&nbsp;&nbsp;[10.3.1 Exercise: Set Up a Dashboard](#10.3.1-Exercise:-Set-Up-a-Dashboard)<br>\n",
    "&nbsp;&nbsp;&nbsp;&nbsp;[10.3.2 Shutdown](#10.3.2-Shutdown)<br>\n",
    "\n",
    "\n",
    "Monitoring systems includes collecting/storing metrics, visualizing results, and alerting on specific observed conditions.\n",
    "DCGM is a suite of tools that includes active health monitoring, comprehensive diagnostics, system alerts, and governance policies for the GPU cluster. \n",
    "Metrics are collected with the open-source tool [Prometheus](https://prometheus.io/) and visualized with the [Grafana](https://grafana.com/) tool to create rich dashboards.  \n",
    "\n",
    "To gather GPU telemetry in Kubernetes, we will use [dcgm-exporter](https://docs.nvidia.com/datacenter/cloud-native/kubernetes/dcgme2e.html#gpu-telemetry), which exposes GPU metrics in a format that can be scraped by Prometheus and visualized using Grafana."
   ]
  },
  {
   "cell_type": "markdown",
   "id": "ed76a61a",
   "metadata": {},
   "source": [
    "### Notebook Dependencies\n",
    "The steps in this notebook assume that you are starting with a K8s cluster that is GPU-enabled with feature discovery.  Let's ensure that by stopping and restarting a cluster and bringing it to a known state."
   ]
  },
  {
   "cell_type": "code",
   "execution_count": null,
   "id": "10587799",
   "metadata": {
    "scrolled": true
   },
   "outputs": [],
   "source": [
    "# Delete and restart K8s\n",
    "!minikube delete\n",
    "!minikube start --driver=none\n",
    "# Install the GPU device plugin with Helm\n",
    "!helm repo add nvdp https://nvidia.github.io/k8s-device-plugin \\\n",
    "    && helm repo update\n",
    "!helm install \\\n",
    "    --version=0.9.0 \\\n",
    "    --generate-name nvdp/nvidia-device-plugin\n",
    "# Install GPU feature discovery with Helm\n",
    "!helm repo add nvgfd https://nvidia.github.io/gpu-feature-discovery \\\n",
    "    && helm repo update\n",
    "!helm install \\\n",
    "    --version=0.4.1 \\\n",
    "    --generate-name nvgfd/gpu-feature-discovery"
   ]
  },
  {
   "cell_type": "markdown",
   "id": "1c1d1df7",
   "metadata": {},
   "source": [
    "Check the list of Helm charts installed with the `helm list` command (see the [Helm documentation](https://helm.sh/docs/helm/helm_list/)). The `--filter` option allows filtering by name.  Use the `--output` option to specify the output format (\"json\", \"table\", or \"yaml\").  "
   ]
  },
  {
   "cell_type": "code",
   "execution_count": null,
   "id": "67b25227",
   "metadata": {},
   "outputs": [],
   "source": [
    "# check the list of charts\n",
    "!helm list -A  --output table"
   ]
  },
  {
   "cell_type": "code",
   "execution_count": null,
   "id": "e0cd4e47",
   "metadata": {},
   "outputs": [],
   "source": [
    "# Filter the list of charts\n",
    "!helm list -A --filter \"nvidia\" --output yaml"
   ]
  },
  {
   "cell_type": "markdown",
   "id": "c2552b3d",
   "metadata": {},
   "source": [
    "---\n",
    "# 10.1 Deploy Prometheus\n",
    "\n",
    "The first step is to deploy Prometheus to the cluster, as `dcgm-exporter` depends on Prometheus. If we do this out of order we will get an error.  \n",
    "\n",
    "<img  src=\"images/k8s/prometheus-architecture.png\">\n"
   ]
  },
  {
   "cell_type": "markdown",
   "id": "ea1dd6cf",
   "metadata": {},
   "source": [
    "In the previous notebook, our steps for deployment with Helm were simply to add the appropriate repository, then install with options itemized.  For Prometheus, we have an additional intermediate step.  We need to modify the configuration values before installation.  Our steps are:\n",
    "1. Add the Prometheus repository\n",
    "2. Get the `kube-prometheus-stack` values file and modify it for our configuration\n",
    "3. Install Prometheus with Helm using the updated values"
   ]
  },
  {
   "cell_type": "code",
   "execution_count": null,
   "id": "163913d6",
   "metadata": {},
   "outputs": [],
   "source": [
    "# Add the prometheus-community repo\n",
    "!helm repo add prometheus-community \\\n",
    "    https://prometheus-community.github.io/helm-charts \\\n",
    "    && helm repo update"
   ]
  },
  {
   "cell_type": "code",
   "execution_count": null,
   "id": "e8ea266a",
   "metadata": {},
   "outputs": [],
   "source": [
    "# Find the exact name\n",
    "!helm search repo kube-prometheus --version 17.1"
   ]
  },
  {
   "cell_type": "code",
   "execution_count": null,
   "id": "e51181df",
   "metadata": {},
   "outputs": [],
   "source": [
    "# Use inspect to export the values YAML file\n",
    "!helm inspect values prometheus-community/kube-prometheus-stack --version 17.1 > ./kube-prometheus-stack.values"
   ]
  },
  {
   "cell_type": "markdown",
   "id": "d5ddb3cb",
   "metadata": {},
   "source": [
    "## 10.1.1 Configuration File\n",
    "The [kube-prometheus-stack.values](kube-prometheus-stack.values) file is quite large. You can take a look to get a sense of the many configuration settings possible in deployment. Depending on your own use case, you may need to modify the file before deployment.  In this class, there is a file with modifications already preloaded.  You can see the changes \n",
    "by running a `diff` of the two files."
   ]
  },
  {
   "cell_type": "code",
   "execution_count": null,
   "id": "b29679cc",
   "metadata": {
    "scrolled": true
   },
   "outputs": [],
   "source": [
    "CONFIG_DIR = \"/dli/task/kubernetes-config\"\n",
    "!diff kube-prometheus-stack.values $CONFIG_DIR/kube-prometheus-stack.values"
   ]
  },
  {
   "cell_type": "markdown",
   "id": "9458c640",
   "metadata": {},
   "source": [
    "One area of the configuration file that is of particular interest to us, is the configuration of Grafana.  Here are the Grafana settings in the preloaded version of the values file:"
   ]
  },
  {
   "cell_type": "code",
   "execution_count": null,
   "id": "d6ef3101",
   "metadata": {},
   "outputs": [],
   "source": [
    "!cat $CONFIG_DIR/kube-prometheus-stack.values | grep -A 40 grafana:"
   ]
  },
  {
   "cell_type": "markdown",
   "id": "d6bc564e",
   "metadata": {},
   "source": [
    "There are a few more changes to the config file needed.  To access the Grafana webpage, the \"domain\", \"root_url\", and \"hosts\" parameters have to point to your particular GPU instance. Each student GPU instance has a unique URL, which we need to extract.  You could directly modify the values file, but as an exercise, you'll do this with an override to the `helm install` command instead, using the `--set` option. "
   ]
  },
  {
   "cell_type": "markdown",
   "id": "f8f2d459",
   "metadata": {},
   "source": [
    "## 10.1.2 Exercise: Override a Configuration Value\n",
    "To override a value in the configuration YAML file, use the `--set` option during installation. \n",
    "the reference to a particular key can be found by it's hierarchy, separated by dots, taking care to escape actual dots in the name!\n",
    "As an example, the reference to the \"Grafana server domain\" is in the hierarchy `grafana`->`grafana.ini`->`server`->`domain`. Therefore, the `--set` option is of the form:\n",
    "\n",
    "```\n",
    "--set grafana.'grafana\\.ini'.server.domain=\"your.domain.here\"\n",
    "```\n",
    "\n",
    "Using the helper cell below, determine the \"domain\", \"root_url\", and \"host\" values.  Then complete the `helm install` command with the correct values and run it to deploy Prometheus. \n",
    "\n",
    "There is no precise solution to look at because every student has a unique URL.  If you get stuck, you can look at the [example solution](solutions/ex10.1.2.ipynb), which should give you an idea of the correct pattern. <br>*Note: the example solution will not be your exact solution!*"
   ]
  },
  {
   "cell_type": "code",
   "execution_count": null,
   "id": "451ac031",
   "metadata": {},
   "outputs": [],
   "source": [
    "%%js\n",
    "var root_url = 'http://' + window.location.hostname + '/grafana';\n",
    "element.append(root_url);"
   ]
  },
  {
   "cell_type": "markdown",
   "id": "eabd7711",
   "metadata": {},
   "source": [
    "With the configuration changes in place, go ahead and deploy the Prometheus application. Then we can verify that Prometheus is deployed with the `kubectl get pods` command using the option `--namespace prometheus`."
   ]
  },
  {
   "cell_type": "code",
   "execution_count": null,
   "id": "333f6e96",
   "metadata": {},
   "outputs": [],
   "source": [
    "# TODO Replace the FIXMEs with the correct setting values and deploy Prometheus\n",
    "!helm install prometheus-community/kube-prometheus-stack --version 17.1 \\\n",
    "   --create-namespace --namespace prometheus \\\n",
    "   --generate-name \\\n",
    "   --values $CONFIG_DIR/kube-prometheus-stack.values \\\n",
    "   --set grafana.'grafana\\.ini'.server.domain=\"FIXME\" \\\n",
    "   --set grafana.'grafana\\.ini'.server.root_url=\"FIXME\" \\\n",
    "   --set grafana.ingress.hosts[0]=\"FIXME\""
   ]
  },
  {
   "cell_type": "code",
   "execution_count": null,
   "id": "1be8e94d",
   "metadata": {},
   "outputs": [],
   "source": [
    "# Check prometheus pods. Should be \"Running\" after a \"ContainerCreating\" status\n",
    "!kubectl get pods --namespace prometheus "
   ]
  },
  {
   "cell_type": "markdown",
   "id": "c5476f6c",
   "metadata": {},
   "source": [
    "---\n",
    "# 10.2 Deploy `dcgm-exporter`\n",
    "\n",
    "The `dcgm-exporter` project was built to expose DCGM GPU metrics to Prometheus. Now that Prometheus is deployed, we can deploy `dcgm-exporter`.  We'll do this directly with `kubectl create` instead of with the usual Helm chart to ensure we have no timeout limitations when we launch Grafana."
   ]
  },
  {
   "cell_type": "code",
   "execution_count": null,
   "id": "f5beb8b4",
   "metadata": {},
   "outputs": [],
   "source": [
    "!kubectl create -f https://raw.githubusercontent.com/NVIDIA/gpu-monitoring-tools/2.0.0-rc.9/dcgm-exporter.yaml\n",
    "!kubectl create -f https://raw.githubusercontent.com/NVIDIA/gpu-monitoring-tools/2.0.0-rc.9/service-monitor.yaml"
   ]
  },
  {
   "cell_type": "markdown",
   "id": "5683d911",
   "metadata": {},
   "source": [
    "In order to expose Grafana on the class instance, we need to patch the configuration using the [kubectl patch](https://kubernetes.io/docs/tasks/manage-kubernetes-objects/update-api-object-kubectl-patch/) command.  We need to specify the port and a password.  This patch will override the previous settings."
   ]
  },
  {
   "cell_type": "code",
   "execution_count": null,
   "id": "c6c00d0c",
   "metadata": {},
   "outputs": [],
   "source": [
    "# List the Grafana patch\n",
    "!cat $CONFIG_DIR/grafana-patch.yaml"
   ]
  },
  {
   "cell_type": "markdown",
   "id": "17e8a639",
   "metadata": {},
   "source": [
    "In the next few cells, we will: \n",
    "1. Check the status of the Grafana service using the `kubectl get svc` command\n",
    "1. Make the patch using `kubectl patch svc`\n",
    "1. Check the status again to see if there is a change after applying the patch"
   ]
  },
  {
   "cell_type": "code",
   "execution_count": null,
   "id": "cedb8b27",
   "metadata": {},
   "outputs": [],
   "source": [
    "# Check the status - note the TYPE and PORT for patching\n",
    "!kubectl get svc --namespace prometheus -l app.kubernetes.io/name=grafana "
   ]
  },
  {
   "cell_type": "code",
   "execution_count": null,
   "id": "d23f1ebe",
   "metadata": {},
   "outputs": [],
   "source": [
    "%%bash\n",
    "# get the GRAFANA_NAME\n",
    "GRAFANA_NAME=$(kubectl get svc --namespace prometheus -l app.kubernetes.io/name=grafana -o custom-columns=NAME:.metadata.name --no-headers)\n",
    "\n",
    "# Apply the patch\n",
    "kubectl patch svc $GRAFANA_NAME \\\n",
    "   -n prometheus \\\n",
    "   --patch \"$(cat /dli/task/kubernetes-config/grafana-patch.yaml)\""
   ]
  },
  {
   "cell_type": "code",
   "execution_count": null,
   "id": "52e6fcb4",
   "metadata": {},
   "outputs": [],
   "source": [
    "# Check the status again - note the TYPE and PORT changes\n",
    "!kubectl get svc --namespace prometheus -l app.kubernetes.io/name=grafana "
   ]
  },
  {
   "cell_type": "markdown",
   "id": "d5c1a229",
   "metadata": {},
   "source": [
    "---\n",
    "# 10.3 Explore Prometheus and Grafana"
   ]
  },
  {
   "cell_type": "markdown",
   "id": "4389f2d8",
   "metadata": {},
   "source": [
    "The Grafana interface to Prometheus metrics is now exposed.  Execute the following cell to create the correct link.  Then, click the link to open Grafana in a new browser tab."
   ]
  },
  {
   "cell_type": "code",
   "execution_count": null,
   "id": "2bf0a47f",
   "metadata": {},
   "outputs": [],
   "source": [
    "%%js\n",
    "const href = window.location.hostname +'/grafana';\n",
    "let a = document.createElement('a');\n",
    "let link = document.createTextNode('Open Grafana!');\n",
    "a.appendChild(link);\n",
    "a.href = \"http://\" + href;\n",
    "a.style.color = \"navy\"\n",
    "a.target = \"_blank\"\n",
    "element.append(a);"
   ]
  },
  {
   "cell_type": "markdown",
   "id": "0acff955",
   "metadata": {},
   "source": [
    "Grafana greets you with a dark blue page. To login, use: \n",
    "- Username: `admin` \n",
    "- Password: `prom-operator` \n",
    "\n",
    "The password was originally set in the `kube-prometheus-stack.values` file. If successful, your page should look similar to this:\n",
    "\n",
    "<img src=\"images/k8s/grafana_page1.png\">"
   ]
  },
  {
   "cell_type": "markdown",
   "id": "9fdac723",
   "metadata": {},
   "source": [
    "What's next?  Set up a dashboard by importing the NVIDIA DCGM Exporter Dashboard."
   ]
  },
  {
   "cell_type": "markdown",
   "id": "cc003eb7",
   "metadata": {},
   "source": [
    "## 10.3.1 Exercise: Set Up a Dashboard\n",
    "For this exercise, follow the instructions in the [GPU telemetry documentation](https://docs.nvidia.com/datacenter/cloud-native/kubernetes/dcgme2e.html#dcgm-dashboard-in-grafana) section titled \"DCGM Dashboard in Grafana\" to import and open the dashboard. Please STOP after this section and do NOT continue into the next section titled \"Viewing Metrics for Running Applications\", as this will cause errors later in the course code."
   ]
  },
  {
   "cell_type": "markdown",
   "id": "b6613815",
   "metadata": {},
   "source": [
    "## 10.3.2 Shutdown\n",
    "Clean up your environment by shutting down K8s."
   ]
  },
  {
   "cell_type": "code",
   "execution_count": null,
   "id": "1fc71224",
   "metadata": {},
   "outputs": [],
   "source": [
    "# Shut down K8s\n",
    "!minikube delete\n",
    "!docker kill $(docker ps -q)\n",
    "# Check for clean environment - this should be empty\n",
    "!docker ps"
   ]
  },
  {
   "cell_type": "markdown",
   "id": "85499bc5",
   "metadata": {},
   "source": [
    "---\n",
    "<h2 style=\"color:green;\">Congratulations!</h2>\n",
    "\n",
    "In this notebook, you have:\n",
    "- Deployed a Prometheus server\n",
    "- Modified initialization configurations with settings in `helm install`\n",
    "- Patched a service with K8s for your environment\n",
    "- Explored tools for monitoring activity on your production application\n",
    "\n",
    "Next, you'll deploy a conversational AI Riva application on K8s. <br>\n",
    "Move on to [Deploy Riva](011_K8s_Deploy_Riva.ipynb)."
   ]
  },
  {
   "cell_type": "markdown",
   "id": "e4d85ee7",
   "metadata": {},
   "source": [
    "<a href=\"https://www.nvidia.com/dli\"> <img src=\"images/DLI_Header.png\" alt=\"Header\" style=\"width: 400px;\"/> </a>"
   ]
  }
 ],
 "metadata": {
  "kernelspec": {
   "display_name": "Python 3 (ipykernel)",
   "language": "python",
   "name": "python3"
  },
  "language_info": {
   "codemirror_mode": {
    "name": "ipython",
    "version": 3
   },
   "file_extension": ".py",
   "mimetype": "text/x-python",
   "name": "python",
   "nbconvert_exporter": "python",
   "pygments_lexer": "ipython3",
   "version": "3.8.10"
  }
 },
 "nbformat": 4,
 "nbformat_minor": 5
}
